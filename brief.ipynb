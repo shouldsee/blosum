{
 "cells": [
  {
   "cell_type": "code",
   "execution_count": 2,
   "metadata": {},
   "outputs": [],
   "source": [
    "# with open(oname,'r') as f:\n",
    "#     lines = f.readlines()\n",
    "import Bio.SearchIO\n",
    "import scipy.sparse\n",
    "from domutil.util import *\n",
    "import subprocess\n",
    "import sys\n",
    "did2node = pk_load('hashcath')\n",
    "# tm,oms = pk_load('1200seq')\n",
    "\n",
    "matlist = ['bolsum62_logOFquot.mat',\n",
    "'bolsum62_quotOFlog',\n",
    "'bolsum62_quotOFlog_atan',\n",
    "]\n",
    "\n"
   ]
  },
  {
   "cell_type": "code",
   "execution_count": 3,
   "metadata": {
    "collapsed": true
   },
   "outputs": [],
   "source": [
    "from tempfile import TemporaryFile , mkdtemp\n",
    "\n",
    "def file_len(fname):\n",
    "    with open(fname) as f:\n",
    "        for i, l in enumerate(f):\n",
    "            pass\n",
    "    return i + 1\n",
    "\n",
    "def split_file(fname, number = None, linecount = None, delimiter = '\\n', \n",
    "               header = '\\n', footer = '\\n',\n",
    "               start = 0, end = -1):\n",
    "    if linecount and number:\n",
    "        raise Exception('You can only specify one of linecount or number')\n",
    "    f_handles = []\n",
    "    tempdir = mkdtemp(prefix = '/tmp/feng')\n",
    "    \n",
    "#     lcount = file_len(fname)\n",
    "    with open(fname,'r') as f:\n",
    "#         lines = f.readlines()\n",
    "        lines = f.read().split(delimiter)\n",
    "        lcount = len(lines)\n",
    "    print tempdir\n",
    "    print lcount \n",
    "#     return\n",
    "    \n",
    "    if number:\n",
    "#         with open(fname) as f:\n",
    "#             lines = f.readlines()\n",
    "        lcount = len(lines)\n",
    "        nlcount = lcount // number + 1\n",
    "        idxs = range( 0, lcount , nlcount)\n",
    "        for i,idx in enumerate(idxs):\n",
    "#             print i\n",
    "#             if i >= 11:\n",
    "#                 break\n",
    "\n",
    "#             f = TemporaryFile()\n",
    "            temp_fname = tempdir + '/%d'%i\n",
    "            f = open(temp_fname, 'w+')\n",
    "            f.write( header)\n",
    "            f.write( delimiter.join(lines[idx: idx+nlcount]))\n",
    "            f.write( footer)\n",
    "#             f.close()\n",
    "#             f = open(temp_fname,'r')\n",
    "#             f.seek(0)\n",
    "            f_handles.append(temp_fname)\n",
    "    if linecount:\n",
    "#         idx = start\n",
    "        idx = 0\n",
    "        i   = 0\n",
    "        nlcount = linecount\n",
    "        while 1:\n",
    "            temp_fname = tempdir + '/%d'%i\n",
    "            f = open(temp_fname, 'w' )\n",
    "            f.write( header)\n",
    "            f.write( delimiter.join(lines[idx:idx + nlcount]) )\n",
    "            f.write( footer)\n",
    "            f.seek(0)\n",
    "            f_handles.append(temp_fname)\n",
    "            if idx + nlcount+1 >= lcount : \n",
    "                break\n",
    "            else:\n",
    "                idx += nlcount\n",
    "                i   += 1\n",
    "    return f_handles"
   ]
  },
  {
   "cell_type": "code",
   "execution_count": 4,
   "metadata": {
    "collapsed": true
   },
   "outputs": [],
   "source": [
    "import Bio.SeqIO\n",
    "def hashfasta(fname):\n",
    "    it = Bio.SeqIO.parse( fname,'fasta' )\n",
    "    hash2did = {}\n",
    "    # i = 0\n",
    "    for i,ent in enumerate(it):\n",
    "        h = hash(ent.name) \n",
    "        hash2did[ h ] = (i,ent.name)\n",
    "    return hash2did\n",
    "\n",
    "def f(oname):\n",
    "#     it = Bio.SearchIO.parse( oname,'fasta-m10' )\n",
    "#     d = {}\n",
    "    it = Bio.SearchIO.parse( oname,'fasta-m10' )\n",
    "    l = []\n",
    "    for ent in it:\n",
    "        hits = ent.__dict__['_items']\n",
    "        qid = hash(ent.id)\n",
    "        for hit in hits.values():\n",
    "            v = hit[0].bitscore\n",
    "            jid = hash(hit.id)\n",
    "            l += [((qid,jid),v)]\n",
    "    #         d[ ( qid, jid) ] = v\n",
    "    return l\n",
    "\n",
    "def out2dmat( fname,  hash2did, para = 10,\n",
    "            qfile  = None,libfile = None,):\n",
    "    def findheader(fname):\n",
    "        with open(fname,'r') as f:            \n",
    "            header = ''\n",
    "            line = f.readline()\n",
    "            try:\n",
    "                while not line.startswith('Query'):\n",
    "                    header += line\n",
    "                    line = f.readline()            \n",
    "                header += line\n",
    "            except Exception as e:\n",
    "                raise Exception(\"Unable to grab the header from file :'%s'\"%fname + str(e) )\n",
    "            buf = f.read()\n",
    "            tmpf = 'parse.tmp'\n",
    "            with open( tmpf,'w') as of:\n",
    "                 of.write(buf)\n",
    "        return header, tmpf\n",
    "    if isinstance( fname,list):\n",
    "        f_handles = fname\n",
    "        tmpf = ''\n",
    "    else:\n",
    "#     if 1:\n",
    "        header,tmpf = findheader(fname)\n",
    "#         f_handles = split_file( fname, number = para,\n",
    "#                        delimiter = '>>><<<',\n",
    "#                        header = header,\n",
    "#                        footer = '\\n>>>///\\n',\n",
    "#                               start = 10,)\n",
    "        f_handles = split_file( tmpf, number = para,\n",
    "#                        delimiter = 'Query',\n",
    "                        delimiter = '>>><<<',\n",
    "#                        header = header,\n",
    "                               header  = header,\n",
    "                       footer = '\\n>>>///\\n',\n",
    "                              start = 0,)\n",
    "        print header\n",
    "\n",
    "    xs = []\n",
    "    ys = []\n",
    "    if para > 1:\n",
    "        pool = mp.Pool( para )\n",
    "        res = pool.map( f, f_handles)\n",
    "        lst = sum( res,[] )\n",
    "        d = dict(lst)\n",
    "        pool.close()\n",
    "#         pool.join()\n",
    "    else:\n",
    "        d  = {}\n",
    "        i = 0\n",
    "        print 'handles:',f_handles\n",
    "        for oname in f_handles:        \n",
    "            print 'now parsing:',oname\n",
    "            print i\n",
    "            i += 1\n",
    "            it = Bio.SearchIO.parse( oname,'fasta-m10' )\n",
    "            for ent in it:\n",
    "            #     print ent\n",
    "                hits = ent.__dict__['_items']\n",
    "                qid = hash(ent.id)\n",
    "                for hit in hits.values():\n",
    "                    v = hit[0].bitscore\n",
    "                    jid = hash(hit.id)\n",
    "                    d[ ( qid, jid) ] = v\n",
    "#         return d\n",
    "        \n",
    "    l = len(hash2did)\n",
    "    om = scipy.sparse.dok_matrix( (l,l) )\n",
    "    order_d = { (hash2did[k[0]][0],\n",
    "                hash2did[k[1]][0]):\n",
    "               v for k,v in d.iteritems()\n",
    "              }\n",
    "    om.update(order_d)\n",
    "    \n",
    "    if tmpf:\n",
    "        os.remove(tmpf)\n",
    "    for tmpf in f_handles:\n",
    "        os.remove(tmpf)\n",
    "    return om\n"
   ]
  },
  {
   "cell_type": "code",
   "execution_count": 47,
   "metadata": {},
   "outputs": [],
   "source": [
    "##############################################\n",
    "### Brew temporary files #####################\n",
    "##############################################\n",
    "##############################################\n",
    "import sys\n",
    "import os\n",
    "os.environ['SEQlib'] = '.'\n",
    "# sys.environs['SEQlib']='.'\n",
    "forig = full(\"$SEQlib/cath-dataset-nonredundant-S40.fa\")\n",
    "lnum = 1500\n",
    "ftmp = forig.rstrip('.fa') + '.%drdtmp'%lnum\n",
    "data = readfasta( forig )\n",
    "_ = np.random.seed(0)\n",
    "# ?np.random.choice\n",
    "idx = np.random.choice(range(0,len(data)), size = lnum, replace = 0)\n",
    "# idx = np.random.randint( 0 , len(data), lnum,refill = 0)\n",
    "writefasta(ftmp, [data[i] for i in idx])\n",
    "\n",
    "\n",
    "# with open( ftmp,'w' ) as fout:   \n",
    "#     cmd = 'head -n %d %s' % (lnum,forig,)\n",
    "#     print cmd\n",
    "#     subprocess.check_call(cmd.split(),stdout = fout)\n"
   ]
  },
  {
   "cell_type": "code",
   "execution_count": 12,
   "metadata": {},
   "outputs": [
    {
     "name": "stdout",
     "output_type": "stream",
     "text": [
      "head -n 800 ./cath-dataset-nonredundant-S40.fa\n"
     ]
    }
   ],
   "source": [
    "##############################################\n",
    "### Brew temporary files #####################\n",
    "##############################################\n",
    "##############################################\n",
    "import sys\n",
    "import os\n",
    "os.environ['SEQlib'] = '.'\n",
    "# sys.environs['SEQlib']='.'\n",
    "forig = full(\"$SEQlib/cath-dataset-nonredundant-S40.fa\")\n",
    "# forig = full(\"$SEQlib/cath-domain-seqs-S35.fa\")\n",
    "ftmp = forig.rstrip('.fa') + '.400tmp'\n",
    "with open( ftmp,'w' ) as fout:\n",
    "#     lnum = 1400 * 2  \n",
    "#     lnum = 1400 * 2 \n",
    "    lnum = 1400 * 2 \n",
    "#     lnum = 21090\n",
    "#     lnum = 400 * 2  \n",
    "#     lnum = file_len(forig)\n",
    "    \n",
    "#     cmd = 'head -n %d %s > %s' % (lnum,forig,ftmp)\n",
    "    cmd = 'head -n %d %s' % (lnum,forig,)\n",
    "    print cmd\n",
    "    subprocess.check_call(cmd.split(),stdout = fout)\n"
   ]
  },
  {
   "cell_type": "code",
   "execution_count": 46,
   "metadata": {},
   "outputs": [
    {
     "name": "stdout",
     "output_type": "stream",
     "text": [
      "head -n 16000 ./cath-dataset-nonredundant-S40.fa\n"
     ]
    }
   ],
   "source": [
    "##############################################\n",
    "### Brew temporary files #####################\n",
    "##############################################\n",
    "##############################################\n",
    "import sys\n",
    "import os\n",
    "os.environ['SEQlib'] = '.'\n",
    "# sys.environs['SEQlib']='.'\n",
    "forig = full(\"$SEQlib/cath-dataset-nonredundant-S40.fa\")\n",
    "# forig = full(\"$SEQlib/cath-domain-seqs-S35.fa\")\n",
    "ftmp = forig.rstrip('.fa') + '.tmp'\n",
    "with open( ftmp,'w' ) as fout:\n",
    "#     lnum = 1400 * 2  \n",
    "#     lnum = 1400 * 2 \n",
    "    lnum = 8000 * 2 \n",
    "#     lnum = 21090\n",
    "#     lnum = 400 * 2  \n",
    "#     lnum = file_len(forig)\n",
    "    \n",
    "#     cmd = 'head -n %d %s > %s' % (lnum,forig,ftmp)\n",
    "    cmd = 'head -n %d %s' % (lnum,forig,)\n",
    "    print cmd\n",
    "    subprocess.check_call(cmd.split(),stdout = fout)\n",
    "# cmd = 'head %s %s -T%d -m10 -f0 -g0' % (fname,\n",
    "#                                            fname,\n",
    "#                                           numT)\n"
   ]
  },
  {
   "cell_type": "code",
   "execution_count": 48,
   "metadata": {
    "collapsed": true
   },
   "outputs": [],
   "source": [
    "################ old routine ########################\n",
    "# om.mean()\n",
    "# tm.mean()\n",
    "# fname = full(\"$SEQlib/cath-dataset-nonredundant-S40.fa\")\n",
    "def readfasta( fname ):\n",
    "    with open(fname, 'r') as f:\n",
    "        lines =  f.readlines()\n",
    "    seqs = []\n",
    "    sfs  = []\n",
    "    data = []\n",
    "    for i in range(0,len(lines),2):\n",
    "        header = lines[i].rstrip('\\n')\n",
    "        seq = lines[i+1].rstrip('\\n')\n",
    "#         acc = p_cathFAheader.findall(header)[0]\n",
    "#         if not acc in did2node:\n",
    "#             continue    \n",
    "#         sf = did2node[acc]\n",
    "        data.append( (i//2, header, seq) ) \n",
    "    return data\n",
    "def writefasta(fname, data):\n",
    "    with open(fname,'w') as f:\n",
    "        for i,header,seq in data:\n",
    "            f.write( '%s\\n%s\\n' % (header,seq))\n",
    "\n"
   ]
  },
  {
   "cell_type": "code",
   "execution_count": 49,
   "metadata": {},
   "outputs": [
    {
     "name": "stdout",
     "output_type": "stream",
     "text": [
      "./cath-dataset-nonredundant-S40.1500rdtmp\n",
      "9\n",
      "blosum62_logOFquot.mat\n",
      "fasta36 ./cath-dataset-nonredundant-S40.1500rdtmp ./cath-dataset-nonredundant-S40.1500rdtmp -T9 -m10 -f0 -g0 -z5 -E100 -s submat/blosum62_logOFquot.mat\n",
      "CPU times: user 32 ms, sys: 28 ms, total: 60 ms\n",
      "Wall time: 50.9 s\n",
      "9\n",
      "blosum62_quotOFlog.mat\n",
      "fasta36 ./cath-dataset-nonredundant-S40.1500rdtmp ./cath-dataset-nonredundant-S40.1500rdtmp -T9 -m10 -f0 -g0 -z5 -E100 -s submat/blosum62_quotOFlog.mat\n",
      "CPU times: user 32 ms, sys: 28 ms, total: 60 ms\n",
      "Wall time: 49.8 s\n",
      "9\n",
      "blosum62_quotOFlog_atan.mat\n",
      "fasta36 ./cath-dataset-nonredundant-S40.1500rdtmp ./cath-dataset-nonredundant-S40.1500rdtmp -T9 -m10 -f0 -g0 -z5 -E100 -s submat/blosum62_quotOFlog_atan.mat\n",
      "CPU times: user 28 ms, sys: 36 ms, total: 64 ms\n",
      "Wall time: 50.4 s\n",
      "CPU times: user 104 ms, sys: 108 ms, total: 212 ms\n",
      "Wall time: 2min 31s\n"
     ]
    }
   ],
   "source": [
    "%%time\n",
    "import subprocess\n",
    "import multiprocessing as mp\n",
    "\n",
    "matDIR = 'submat/'\n",
    "matlist = ['blosum62_logOFquot.mat',\n",
    "'blosum62_quotOFlog.mat',\n",
    "'blosum62_quotOFlog_atan.mat',\n",
    "]\n",
    "DIR = 'result'\n",
    "\n",
    "\n",
    "fname = ftmp\n",
    "import multiprocessing as mp\n",
    "print ftmp\n",
    "num_T = mp.cpu_count() - 1\n",
    "# num_T = mp.cpu_count() - 1\n",
    "num_T = 9\n",
    "\n",
    "\n",
    "assert os.path.isdir(DIR),'Directory not found:\"%s\"'%DIR\n",
    "\n",
    "for matname in matlist:\n",
    "# for num_T in range(1,14,2):\n",
    "#     matname = matlist[0]\n",
    "    print num_T\n",
    "    print matname\n",
    "#     mat = \n",
    "    cmd = 'fasta36 %s %s -T%d -m10 -f0 -g0 -z5 -E100 -s %s' % (fname,\n",
    "                                               fname,\n",
    "                                                num_T,\n",
    "                                                matDIR + matname)\n",
    "    print cmd\n",
    "    oname = os.path.join(DIR,fname  + '_%s.m10' % matname)\n",
    "    # buf = open()\n",
    "    with open(oname,'w') as outf:\n",
    "        %time subprocess.check_call( cmd.split(), stdin=None, stdout=outf, stderr=None, shell=False)\n"
   ]
  },
  {
   "cell_type": "code",
   "execution_count": 6,
   "metadata": {
    "collapsed": true
   },
   "outputs": [],
   "source": [
    "%load_ext autoreload\n",
    "%autoreload 4"
   ]
  },
  {
   "cell_type": "code",
   "execution_count": 50,
   "metadata": {
    "scrolled": true
   },
   "outputs": [
    {
     "name": "stdout",
     "output_type": "stream",
     "text": [
      "result/./cath-dataset-nonredundant-S40.1500rdtmp_blosum62_logOFquot.mat.m10\n",
      "/tmp/fengKRQ78I\n",
      "1501\n",
      "# fasta36 ./cath-dataset-nonredundant-S40.1500rdtmp ./cath-dataset-nonredundant-S40.1500rdtmp -T9 -m10 -f0 -g0 -z5 -E100 -s submat/blosum62_logOFquot.mat\n",
      "FASTA searches a protein or DNA sequence data bank\n",
      " version 36.3.8d Apr, 2016(preload9)\n",
      "Please cite:\n",
      " W.R. Pearson & D.J. Lipman PNAS (1988) 85:2444-2448\n",
      "\n",
      "Query: ./cath-dataset-nonredundant-S40.1500rdtmp\n",
      "\n",
      "Done\n",
      "result/./cath-dataset-nonredundant-S40.1500rdtmp_blosum62_quotOFlog.mat.m10\n",
      "/tmp/fengkESkxN\n",
      "1501\n",
      "# fasta36 ./cath-dataset-nonredundant-S40.1500rdtmp ./cath-dataset-nonredundant-S40.1500rdtmp -T9 -m10 -f0 -g0 -z5 -E100 -s submat/blosum62_quotOFlog.mat\n",
      "FASTA searches a protein or DNA sequence data bank\n",
      " version 36.3.8d Apr, 2016(preload9)\n",
      "Please cite:\n",
      " W.R. Pearson & D.J. Lipman PNAS (1988) 85:2444-2448\n",
      "\n",
      "Query: ./cath-dataset-nonredundant-S40.1500rdtmp\n",
      "\n",
      "Done\n",
      "result/./cath-dataset-nonredundant-S40.1500rdtmp_blosum62_quotOFlog_atan.mat.m10\n",
      "/tmp/fengnyrbcw\n",
      "1501\n",
      "# fasta36 ./cath-dataset-nonredundant-S40.1500rdtmp ./cath-dataset-nonredundant-S40.1500rdtmp -T9 -m10 -f0 -g0 -z5 -E100 -s submat/blosum62_quotOFlog_atan.mat\n",
      "FASTA searches a protein or DNA sequence data bank\n",
      " version 36.3.8d Apr, 2016(preload9)\n",
      "Please cite:\n",
      " W.R. Pearson & D.J. Lipman PNAS (1988) 85:2444-2448\n",
      "\n",
      "Query: ./cath-dataset-nonredundant-S40.1500rdtmp\n",
      "\n",
      "Done\n"
     ]
    }
   ],
   "source": [
    "# %%time\n",
    "# forig = full(\"cath-domain-seqs-S35.fa\")\n",
    "# forig = full(\"cath-dataset-nonredundant-S40.fa\")\n",
    "# ftmp = forig.rstrip('.fa') + '.tmp'\n",
    "fname = ftmp\n",
    "hash2head = hashfasta( ftmp )\n",
    "# forig = full(\"$SEQlib/cath-dataset-nonredundant-S40.fa\")\n",
    "\n",
    "# forig = full(\"$SEQlib/cath-domain-seqs-S35.fa\")if ncore:\n",
    "#     fs = split_file('tmp',ncore, delimiter = '>>><<<')\n",
    "# else:\n",
    "oms = []\n",
    "DIR = 'result'\n",
    "ncore = mp.cpu_count() - 2\n",
    "\n",
    "matlist = ['blosum62_logOFquot.mat',\n",
    "'blosum62_quotOFlog.mat',\n",
    "'blosum62_quotOFlog_atan.mat',\n",
    "]\n",
    "\n",
    "for matname in matlist:\n",
    "    oname = os.path.join(DIR, fname  + '_%s.m10' % matname)\n",
    "    print oname\n",
    "    assert os.path.isfile(oname)\n",
    "\n",
    "    om = out2dmat( oname ,hash2head, para = ncore,\n",
    "    #              qfile = ftmp,\n",
    "    #              libfile = ftmp\n",
    "                 )\n",
    "    oms += [om]\n",
    "    print 'Done'\n"
   ]
  },
  {
   "cell_type": "code",
   "execution_count": 53,
   "metadata": {},
   "outputs": [
    {
     "name": "stdout",
     "output_type": "stream",
     "text": [
      "1500\n",
      "CPU times: user 3.45 s, sys: 392 ms, total: 3.84 s\n",
      "Wall time: 3.97 s\n"
     ]
    }
   ],
   "source": [
    "def compare( om, tm = None, thres = 0.5):\n",
    "    tm = tm.tocsr()\n",
    "    om = om.tocsr()\n",
    "    tp = ((om + tm)  == 2).sum()\n",
    "    fp = ((om - tm)  == 1).sum()\n",
    "    return tp,fp,\n",
    "\n",
    "\n",
    "\n",
    "def f2(obj):\n",
    "    x,y = obj\n",
    "    v = x[-1] == y[-1]\n",
    "    return ( (x[0],y[0]), v)\n",
    "import multiprocessing as mp\n",
    "def findtm( hash2head, did2node):\n",
    "    INPUT = list()\n",
    "    print len(hash2head)\n",
    "    for i,head in hash2head.itervalues():\n",
    "        did = p_cathFAheader.findall(head)[0]\n",
    "        INPUT += [(i,did2node[did])]\n",
    "    l = len(INPUT)\n",
    "        # INPUT = hash2did\n",
    "    it = itertools.combinations( INPUT,2 )\n",
    "    # it = itertools.combinations( data[:l],2 )\n",
    "    pool = mp.Pool(12)\n",
    "    # res = pool.apply_async(f, it)      # runs in *only* one process\n",
    "    # print res.get(timeout=1)              # prints \"400\"\n",
    "    res = pool.map(f2, (it) )\n",
    "    pool.close()\n",
    "    pool.join()\n",
    "    OUTPUT = scipy.sparse.dok_matrix( ( l, l), )\n",
    "    # OUTPUT.update( res )\n",
    "    OUTPUT.update({x:y for x,y in res})\n",
    "    tm = OUTPUT\n",
    "    return tm\n",
    "\n",
    "%time tm = findtm( hash2head,did2node )\n",
    "# hash2head"
   ]
  },
  {
   "cell_type": "code",
   "execution_count": 54,
   "metadata": {},
   "outputs": [
    {
     "name": "stdout",
     "output_type": "stream",
     "text": [
      "(1500, 1500)\n",
      "(1500, 1500)\n"
     ]
    }
   ],
   "source": [
    "print tm.shape\n",
    "print oms[0].shape"
   ]
  },
  {
   "cell_type": "code",
   "execution_count": 58,
   "metadata": {
    "collapsed": true
   },
   "outputs": [],
   "source": [
    "\n",
    "# sidx[0]\n",
    "# sorted(sidx)\n",
    "tm,oms = pk_load('1200seq')"
   ]
  },
  {
   "cell_type": "code",
   "execution_count": 59,
   "metadata": {},
   "outputs": [
    {
     "name": "stdout",
     "output_type": "stream",
     "text": [
      "finished\n",
      "finished\n",
      "finished\n",
      "finished\n",
      "finished\n"
     ]
    }
   ],
   "source": [
    "tm = tm.tocsr()\n",
    "xss = []\n",
    "yss = []\n",
    "for om in oms[:]:\n",
    "#     d = scipy.sparse.dok_matrix( (l,l) )\n",
    "#     d.update(\n",
    "#         { (idxD[i],idxD[j]):v for (i,j),v in om.iteritems()}\n",
    "#     )\n",
    "#     om = d.tocsr()\n",
    "    om = om.tocsr()\n",
    "    thres = 1  \n",
    "    xs = []\n",
    "    ys = []\n",
    "    it = np.linspace( om.min(), om.max(), 100)\n",
    "    for thres in it:\n",
    "        tp,fp = compare( om > thres ,tm)\n",
    "        xs += [fp]\n",
    "        ys += [tp] \n",
    "    xss += [xs]\n",
    "    yss += [ys]\n",
    "    print \"finished\""
   ]
  },
  {
   "cell_type": "code",
   "execution_count": 19,
   "metadata": {},
   "outputs": [
    {
     "data": {
      "text/plain": [
       "['blosum62_logOFquot.mat',\n",
       " 'blosum62_quotOFlog.mat',\n",
       " 'blosum62_quotOFlog_atan.mat']"
      ]
     },
     "execution_count": 19,
     "metadata": {},
     "output_type": "execute_result"
    }
   ],
   "source": [
    "matlist"
   ]
  },
  {
   "cell_type": "code",
   "execution_count": 60,
   "metadata": {},
   "outputs": [
    {
     "data": {
      "text/plain": [
       "<matplotlib.legend.Legend at 0x7f7c2d4ac6d0>"
      ]
     },
     "execution_count": 60,
     "metadata": {},
     "output_type": "execute_result"
    },
    {
     "data": {
      "image/png": "[encoded data removed]",
      "text/plain": [
       "<matplotlib.figure.Figure at 0x7f7c26d13d90>"
      ]
     },
     "metadata": {},
     "output_type": "display_data"
    }
   ],
   "source": [
    "# compare(tm ,om)\n",
    "import matplotlib\n",
    "matplotlib.use('Agg')\n",
    "%matplotlib inline\n",
    "import matplotlib.pyplot as plt\n",
    "fig = plt.figure()\n",
    "ax1 = plt.subplot(111)\n",
    "ax1.set_xlabel('False positive')\n",
    "ax1.set_ylabel('True positive')\n",
    "ax1.set_xscale('log')\n",
    "ax1.set_yscale('log')\n",
    "\n",
    "lbl = 0\n",
    "for xs,ys in izip(xss,yss):\n",
    "    lbl += 1\n",
    "    if lbl ==6:\n",
    "        break\n",
    "    ax1.plot(xs,ys, label = lbl)\n",
    "# ax1.set_ylim(bottom = 40)\n",
    "# ax1.set_ylim(bottom = 40)\n",
    "ax1.set_xlim(left = 100)\n",
    "\n",
    "ax1.legend()\n",
    "\n",
    "# np.mean(tm.todense())"
   ]
  }
 ],
 "metadata": {
  "kernelspec": {
   "display_name": "Python 2",
   "language": "python",
   "name": "python2"
  },
  "language_info": {
   "codemirror_mode": {
    "name": "ipython",
    "version": 2
   },
   "file_extension": ".py",
   "mimetype": "text/x-python",
   "name": "python",
   "nbconvert_exporter": "python",
   "pygments_lexer": "ipython2",
   "version": "2.7.12"
  }
 },
 "nbformat": 4,
 "nbformat_minor": 1
}
