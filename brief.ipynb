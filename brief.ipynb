{
 "cells": [
  {
   "cell_type": "code",
   "execution_count": 14,
   "metadata": {
    "collapsed": false
   },
   "outputs": [],
   "source": [
    "# with open(oname,'r') as f:\n",
    "#     lines = f.readlines()\n",
    "import Bio.SearchIO\n",
    "import scipy.sparse\n",
    "from domutil.util import *\n",
    "import subprocess\n",
    "import sys\n",
    "did2node = pk_load('hashcath')\n",
    "# tm,oms = pk_load('1200seq')\n",
    "\n",
    "\n"
   ]
  },
  {
   "cell_type": "code",
   "execution_count": 12,
   "metadata": {
    "collapsed": false
   },
   "outputs": [
    {
     "ename": "TypeError",
     "evalue": "unsupported operand type(s) for +: 'dict' and 'dict'",
     "output_type": "error",
     "traceback": [
      "\u001b[0;31m\u001b[0m",
      "\u001b[0;31mTypeError\u001b[0mTraceback (most recent call last)",
      "\u001b[0;32m<ipython-input-12-a1fe1139cb8e>\u001b[0m in \u001b[0;36m<module>\u001b[0;34m()\u001b[0m\n\u001b[1;32m      2\u001b[0m \u001b[0;31m# print {1:2}.update({3:4})\u001b[0m\u001b[0;34m\u001b[0m\u001b[0;34m\u001b[0m\u001b[0m\n\u001b[1;32m      3\u001b[0m \u001b[0;31m# reduce(lambda x,y: x + y,ds)\u001b[0m\u001b[0;34m\u001b[0m\u001b[0;34m\u001b[0m\u001b[0m\n\u001b[0;32m----> 4\u001b[0;31m \u001b[0msum\u001b[0m\u001b[0;34m(\u001b[0m\u001b[0mds\u001b[0m\u001b[0;34m,\u001b[0m\u001b[0;34m{\u001b[0m\u001b[0;34m}\u001b[0m\u001b[0;34m)\u001b[0m\u001b[0;34m\u001b[0m\u001b[0m\n\u001b[0m",
      "\u001b[0;31mTypeError\u001b[0m: unsupported operand type(s) for +: 'dict' and 'dict'"
     ]
    }
   ],
   "source": [
    "ds = [{1:2},{2:3},{3:4}]\n",
    "# print {1:2}.update({3:4})\n",
    "# reduce(lambda x,y: x + y,ds)\n",
    "sum(ds,{})"
   ]
  },
  {
   "cell_type": "code",
   "execution_count": 16,
   "metadata": {
    "collapsed": true
   },
   "outputs": [],
   "source": [
    "from tempfile import TemporaryFile , mkdtemp\n",
    "\n",
    "def file_len(fname):\n",
    "    with open(fname) as f:\n",
    "        for i, l in enumerate(f):\n",
    "            pass\n",
    "    return i + 1\n",
    "\n",
    "def split_file(fname, number = None, linecount = None, delimiter = '\\n',header = '\\n',footer = '\\n'):\n",
    "    if linecount and number:\n",
    "        raise Exception('You can only specify one of linecount or number')\n",
    "    f_handles = []\n",
    "    tempdir = mkdtemp(prefix = '/tmp/feng')\n",
    "    \n",
    "#     lcount = file_len(fname)\n",
    "    with open(fname,'r') as f:\n",
    "#         lines = f.readlines()\n",
    "        lines = f.read().lstrip(header).rstrip(footer).split(delimiter)\n",
    "        lcount = len(lines)\n",
    "    print tempdir\n",
    "    print lcount \n",
    "#     return\n",
    "    \n",
    "    if number:\n",
    "#         with open(fname) as f:\n",
    "#             lines = f.readlines()\n",
    "        lcount = len(lines)\n",
    "        nlcount = lcount // number + 1\n",
    "        idxs = range(0, lcount, nlcount)\n",
    "        for i,idx in enumerate(idxs):\n",
    "            print i\n",
    "#             if i >= 11:\n",
    "#                 break\n",
    "\n",
    "#             f = TemporaryFile()\n",
    "            temp_fname = tempdir + '/%d'%i\n",
    "            f = open(temp_fname, 'w+')\n",
    "            f.write( header)\n",
    "            f.write( delimiter.join(lines[idx: idx+nlcount]))\n",
    "            f.write( footer)\n",
    "#             f.close()\n",
    "#             f = open(temp_fname,'r')\n",
    "#             f.seek(0)\n",
    "            f_handles.append(temp_fname)\n",
    "    if linecount:\n",
    "        idx = 0\n",
    "        i   = 0\n",
    "        nlcount = linecount\n",
    "        while 1:\n",
    "            temp_fname = tempdir + '/%d'%i\n",
    "            f = open(temp_fname, 'w' )\n",
    "            f.write( header)\n",
    "            f.write( delimiter.join(lines[idx:idx + nlcount]) )\n",
    "            f.write( footer)\n",
    "            f.seek(0)\n",
    "            f_handles.append(temp_fname)\n",
    "            if idx + nlcount+1 >= lcount: \n",
    "                break\n",
    "            else:\n",
    "                idx += nlcount\n",
    "                i   += 1\n",
    "    return f_handles"
   ]
  },
  {
   "cell_type": "code",
   "execution_count": 44,
   "metadata": {
    "collapsed": true
   },
   "outputs": [],
   "source": [
    "import Bio.SeqIO\n",
    "def hashfasta(fname):\n",
    "    it = Bio.SeqIO.parse( fname,'fasta' )\n",
    "    hash2did = {}\n",
    "    # i = 0\n",
    "    for i,ent in enumerate(it):\n",
    "        h = hash(ent.name) \n",
    "        hash2did[ h ] = (i,ent.name)\n",
    "    return hash2did\n",
    "\n",
    "def f(oname):\n",
    "#     it = Bio.SearchIO.parse( oname,'fasta-m10' )\n",
    "#     d = {}\n",
    "    it = Bio.SearchIO.parse( oname,'fasta-m10' )\n",
    "    l = []\n",
    "    for ent in it:\n",
    "        hits = ent.__dict__['_items']\n",
    "        qid = hash(ent.id)\n",
    "        for hit in hits.values():\n",
    "            v = hit[0].bitscore\n",
    "            jid = hash(hit.id)\n",
    "            l += [((qid,jid),v)]\n",
    "    #         d[ ( qid, jid) ] = v\n",
    "    return l\n",
    "def out2dmat( f_handles, hash2did, para = 10):\n",
    "# parse\n",
    "    # ent = next(it)\n",
    "    # ?ent\n",
    "    # hits = ent.__dict__['_items']\n",
    "\n",
    "    xs = []\n",
    "    ys = []\n",
    "    if para:\n",
    "        pool = mp.Pool( para )\n",
    "        res = pool.map(f, f_handles)\n",
    "        lst = sum( res,[] )\n",
    "        d = dict(lst)\n",
    "        pool.close()\n",
    "#         pool.join()\n",
    "    else:\n",
    "        d  = {}\n",
    "        i = 0\n",
    "        for oname in f_handles:        \n",
    "            print i\n",
    "            i += 1\n",
    "            it = Bio.SearchIO.parse( oname,'fasta-m10' )\n",
    "            for ent in it:\n",
    "            #     print ent\n",
    "                hits = ent.__dict__['_items']\n",
    "                qid = hash(ent.id)\n",
    "                for hit in hits.values():\n",
    "                    v = hit[0].bitscore\n",
    "                    jid = hash(hit.id)\n",
    "                    d[ ( qid, jid) ] = v\n",
    "\n",
    "    l = len(hash2did)\n",
    "    om = scipy.sparse.dok_matrix( (l,l) )\n",
    "    order_d = { (hash2did[k[0]][0],\n",
    "                hash2did[k[1]][0]):\n",
    "               v for k,v in d.iteritems()\n",
    "              }\n",
    "    om.update(order_d)\n",
    "    return om\n"
   ]
  },
  {
   "cell_type": "code",
   "execution_count": 23,
   "metadata": {
    "collapsed": false
   },
   "outputs": [
    {
     "name": "stdout",
     "output_type": "stream",
     "text": [
      "Process ended, ret code: 0\n",
      "('tmp\\n', '')\n"
     ]
    }
   ],
   "source": [
    "import time\n",
    "import subprocess\n",
    "\n",
    "p = subprocess.Popen([\"echo\", \"tmp\"], \n",
    "                    stdout=subprocess.PIPE,\n",
    "                    stderr=subprocess.PIPE\n",
    "                    )\n",
    "# Better: p = subprocess.Popen([\"sleep\", \"30\"])\n",
    "\n",
    "# Wait until process terminates\n",
    "while p.poll() is None:\n",
    "    time.sleep(0.5)\n",
    "\n",
    "# It's done\n",
    "\n",
    "print \"Process ended, ret code:\", p.returncode\n",
    "res = p.communicate()\n",
    "print res\n"
   ]
  },
  {
   "cell_type": "code",
   "execution_count": 22,
   "metadata": {
    "collapsed": false
   },
   "outputs": [
    {
     "name": "stdout",
     "output_type": "stream",
     "text": [
      "/tmp/fengEBh8IJ\n",
      "1401\n",
      "0\n",
      "1\n",
      "2\n",
      "3\n",
      "4\n",
      "5\n",
      "6\n",
      "7\n",
      "8\n",
      "9\n"
     ]
    }
   ],
   "source": [
    "f_handles = split_file( 'tmp', 10, delimiter = '>>><<<',ender = '>>>///')\n",
    "# file_len('cath-domain-seqs-S35.fa')"
   ]
  },
  {
   "cell_type": "code",
   "execution_count": 17,
   "metadata": {
    "collapsed": false
   },
   "outputs": [
    {
     "data": {
      "text/plain": [
       "['/tmp/feng_3j7uW/0',\n",
       " '/tmp/feng_3j7uW/1',\n",
       " '/tmp/feng_3j7uW/2',\n",
       " '/tmp/feng_3j7uW/3',\n",
       " '/tmp/feng_3j7uW/4',\n",
       " '/tmp/feng_3j7uW/5',\n",
       " '/tmp/feng_3j7uW/6',\n",
       " '/tmp/feng_3j7uW/7',\n",
       " '/tmp/feng_3j7uW/8',\n",
       " '/tmp/feng_3j7uW/9']"
      ]
     },
     "execution_count": 17,
     "metadata": {},
     "output_type": "execute_result"
    }
   ],
   "source": [
    "f_handles"
   ]
  },
  {
   "cell_type": "code",
   "execution_count": null,
   "metadata": {
    "collapsed": false,
    "scrolled": true
   },
   "outputs": [],
   "source": [
    "%%time\n",
    "forig = full(\"./cath-domain-seqs-S35.fa\")\n",
    "# forig = full(\"$SEQlib/cath-domain-seqs-S35.fa\")if ncore:\n",
    "#     fs = split_file('tmp',ncore, delimiter = '>>><<<')\n",
    "# else:\n",
    "\n",
    "ftmp = forig.rstrip('.fa') + '.tmp'\n",
    "fout = ftmp+'.m10'\n",
    "hash2head = hashfasta(forig)\n",
    "# om = out2dmat(fout,hash2head, para = 10)\n",
    "\n",
    "ncore = 2\n",
    "# ncore = 0\n",
    "# if ncore:\n",
    "#     fs = split_file('tmp',ncore, delimiter = '>>><<<')\n",
    "# else:\n",
    "#     fs = ['tmp']\n",
    "\n",
    "header = '''\n",
    "# fasta36 ./cath-domain-seqs-S35.tmp ./cath-domain-seqs-S35.tmp -T512 -m10 -f0 -\n",
    "g0\n",
    "FASTA searches a protein or DNA sequence data bank\n",
    " version 36.3.8d Apr, 2016(preload9)\n",
    "Please cite:\n",
    " W.R. Pearson & D.J. Lipman PNAS (1988) 85:2444-2448\n",
    "\n",
    "Query: ./cath-domain-seqs-S35.tmp\n",
    "  1>>>cath|4_1_0|16pkA01/5-192 - 188 aa\n",
    "Library: ./cath-domain-seqs-S35.tmp\n",
    "   200787 residues in  1400 sequences\n",
    "\n",
    "'''\n",
    "\n",
    "fname = split_file('tmp',linecount = 60,\n",
    "                   delimiter = '>>><<<',\n",
    "                   header = header,\n",
    "                   footer = '\\n>>>///\\n')[0]\n",
    "# fname = 'tmp'\n",
    "fs = split_file( fname, 2 , delimiter = '>>><<<',\n",
    "                    header = header,\n",
    "                    footer = '\\n>>>///\\n')\n",
    "ncore = 50\n",
    "fs = split_file('tmp', ncore,\n",
    "                   delimiter = '>>><<<',\n",
    "                   header = header,\n",
    "                   footer = '\\n>>>///\\n')\n",
    "\n",
    "# fs  = [fname]\n",
    "\n",
    "# %time \n",
    "%time om = out2dmat( fs ,hash2head, para = ncore)\n",
    "# oms = [om]if ncore:\n",
    "#     fs = split_file('tmp',ncore, delimiter = '>>><<<')\n",
    "# else:\n",
    "\n",
    "# # om = om.todense()\n",
    "\n",
    "#         return d"
   ]
  },
  {
   "cell_type": "code",
   "execution_count": 27,
   "metadata": {
    "collapsed": false
   },
   "outputs": [
    {
     "name": "stdout",
     "output_type": "stream",
     "text": [
      "7040319\n"
     ]
    },
    {
     "ename": "KeyboardInterrupt",
     "evalue": "",
     "output_type": "error",
     "traceback": [
      "\u001b[0;31m\u001b[0m",
      "\u001b[0;31mKeyboardInterrupt\u001b[0mTraceback (most recent call last)",
      "\u001b[0;32m<ipython-input-27-5d238e562ca0>\u001b[0m in \u001b[0;36m<module>\u001b[0;34m()\u001b[0m\n\u001b[1;32m      1\u001b[0m \u001b[0;32mprint\u001b[0m \u001b[0mfile_len\u001b[0m\u001b[0;34m(\u001b[0m\u001b[0;34m'tmp'\u001b[0m\u001b[0;34m)\u001b[0m\u001b[0;34m\u001b[0m\u001b[0m\n\u001b[0;32m----> 2\u001b[0;31m \u001b[0;32mprint\u001b[0m \u001b[0mfile_len\u001b[0m\u001b[0;34m(\u001b[0m\u001b[0mfout\u001b[0m\u001b[0;34m)\u001b[0m\u001b[0;34m\u001b[0m\u001b[0m\n\u001b[0m",
      "\u001b[0;32m<ipython-input-16-be839dcad463>\u001b[0m in \u001b[0;36mfile_len\u001b[0;34m(fname)\u001b[0m\n\u001b[1;32m      3\u001b[0m \u001b[0;32mdef\u001b[0m \u001b[0mfile_len\u001b[0m\u001b[0;34m(\u001b[0m\u001b[0mfname\u001b[0m\u001b[0;34m)\u001b[0m\u001b[0;34m:\u001b[0m\u001b[0;34m\u001b[0m\u001b[0m\n\u001b[1;32m      4\u001b[0m     \u001b[0;32mwith\u001b[0m \u001b[0mopen\u001b[0m\u001b[0;34m(\u001b[0m\u001b[0mfname\u001b[0m\u001b[0;34m)\u001b[0m \u001b[0;32mas\u001b[0m \u001b[0mf\u001b[0m\u001b[0;34m:\u001b[0m\u001b[0;34m\u001b[0m\u001b[0m\n\u001b[0;32m----> 5\u001b[0;31m         \u001b[0;32mfor\u001b[0m \u001b[0mi\u001b[0m\u001b[0;34m,\u001b[0m \u001b[0ml\u001b[0m \u001b[0;32min\u001b[0m \u001b[0menumerate\u001b[0m\u001b[0;34m(\u001b[0m\u001b[0mf\u001b[0m\u001b[0;34m)\u001b[0m\u001b[0;34m:\u001b[0m\u001b[0;34m\u001b[0m\u001b[0m\n\u001b[0m\u001b[1;32m      6\u001b[0m             \u001b[0;32mpass\u001b[0m\u001b[0;34m\u001b[0m\u001b[0m\n\u001b[1;32m      7\u001b[0m     \u001b[0;32mreturn\u001b[0m \u001b[0mi\u001b[0m \u001b[0;34m+\u001b[0m \u001b[0;36m1\u001b[0m\u001b[0;34m\u001b[0m\u001b[0m\n",
      "\u001b[0;31mKeyboardInterrupt\u001b[0m: "
     ]
    }
   ],
   "source": [
    "print file_len('tmp')\n",
    "print file_len(fout)"
   ]
  },
  {
   "cell_type": "code",
   "execution_count": 16,
   "metadata": {
    "collapsed": false
   },
   "outputs": [],
   "source": [
    "\n",
    "sidx = Bio.SearchIO.index('tmp', format = 'fasta-m10')\n",
    "# sidx[0]\n",
    "# sorted(sidx)"
   ]
  },
  {
   "cell_type": "code",
   "execution_count": null,
   "metadata": {
    "collapsed": true
   },
   "outputs": [],
   "source": [
    "tm = tm.tocsr()\n",
    "xss = []\n",
    "yss = []\n",
    "for om in oms[:]:\n",
    "#     d = scipy.sparse.dok_matrix( (l,l) )\n",
    "#     d.update(\n",
    "#         { (idxD[i],idxD[j]):v for (i,j),v in om.iteritems()}\n",
    "#     )\n",
    "#     om = d.tocsr()\n",
    "    om = om.tocsr()\n",
    "    thres = 1  \n",
    "    xs = []\n",
    "    ys = []\n",
    "    it = np.linspace( om.min(), om.max(), 200)\n",
    "    for thres in it:\n",
    "        tp,fp = compare( om > thres ,tm)\n",
    "        xs += [fp]\n",
    "        ys += [tp] \n",
    "    xss += [xs]\n",
    "    yss += [ys]"
   ]
  },
  {
   "cell_type": "code",
   "execution_count": null,
   "metadata": {
    "collapsed": true
   },
   "outputs": [],
   "source": [
    "# compare(tm ,om)\n",
    "import matplotlib\n",
    "matplotlib.use('Agg')\n",
    "%matplotlib inline\n",
    "import matplotlib.pyplot as plt\n",
    "fig = plt.figure()\n",
    "ax1 = plt.subplot(111)\n",
    "ax1.set_xlabel('False positive')\n",
    "ax1.set_ylabel('True positive')\n",
    "ax1.set_xscale('log')\n",
    "ax1.set_yscale('log')\n",
    "\n",
    "lbl = 0\n",
    "for xs,ys in izip(xss,yss):\n",
    "    lbl += 1\n",
    "    if lbl ==6:\n",
    "        break\n",
    "    ax1.plot(xs,ys, label = lbl)\n",
    "# ax1.set_ylim(bottom = 40)\n",
    "# ax1.set_ylim(bottom = 40)\n",
    "\n",
    "ax1.legend()\n",
    "\n",
    "# np.mean(tm.todense())"
   ]
  }
 ],
 "metadata": {
  "kernelspec": {
   "display_name": "Python 2",
   "language": "python",
   "name": "python2"
  },
  "language_info": {
   "codemirror_mode": {
    "name": "ipython",
    "version": 2
   },
   "file_extension": ".py",
   "mimetype": "text/x-python",
   "name": "python",
   "nbconvert_exporter": "python",
   "pygments_lexer": "ipython2",
   "version": "2.7.6"
  }
 },
 "nbformat": 4,
 "nbformat_minor": 0
}
