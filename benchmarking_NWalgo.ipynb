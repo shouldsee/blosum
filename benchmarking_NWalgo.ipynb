{
 "cells": [
  {
   "cell_type": "code",
   "execution_count": 5,
   "metadata": {},
   "outputs": [
    {
     "name": "stderr",
     "output_type": "stream",
     "text": [
      "/home/shouldsee/.local/lib/python2.7/site-packages/Bio/SearchIO/__init__.py:211: BiopythonExperimentalWarning: Bio.SearchIO is an experimental submodule which may undergo significant changes prior to its future official release.\n",
      "  BiopythonExperimentalWarning)\n"
     ]
    }
   ],
   "source": [
    "from domutil.util import *\n",
    "import subprocess\n",
    "did2node = pk_load('hashcath')\n",
    "# tm,oms = pk_load('1200seq')"
   ]
  },
  {
   "cell_type": "code",
   "execution_count": 8,
   "metadata": {},
   "outputs": [
    {
     "ename": "NameError",
     "evalue": "name 'hash2did' is not defined",
     "output_type": "error",
     "traceback": [
      "\u001b[0;31m---------------------------------------------------------------------------\u001b[0m",
      "\u001b[0;31mNameError\u001b[0m                                 Traceback (most recent call last)",
      "\u001b[0;32m<ipython-input-8-1532bb6c78c4>\u001b[0m in \u001b[0;36m<module>\u001b[0;34m()\u001b[0m\n\u001b[1;32m     10\u001b[0m \u001b[0;34m\u001b[0m\u001b[0m\n\u001b[1;32m     11\u001b[0m \u001b[0mINPUT\u001b[0m \u001b[0;34m=\u001b[0m \u001b[0mlist\u001b[0m\u001b[0;34m(\u001b[0m\u001b[0;34m)\u001b[0m\u001b[0;34m\u001b[0m\u001b[0m\n\u001b[0;32m---> 12\u001b[0;31m \u001b[0;32mfor\u001b[0m \u001b[0mi\u001b[0m\u001b[0;34m,\u001b[0m\u001b[0mhead\u001b[0m \u001b[0;32min\u001b[0m \u001b[0mhash2did\u001b[0m\u001b[0;34m.\u001b[0m\u001b[0mvalues\u001b[0m\u001b[0;34m(\u001b[0m\u001b[0;34m)\u001b[0m\u001b[0;34m:\u001b[0m\u001b[0;34m\u001b[0m\u001b[0m\n\u001b[0m\u001b[1;32m     13\u001b[0m     \u001b[0mdid\u001b[0m \u001b[0;34m=\u001b[0m \u001b[0mp_cathFAheader\u001b[0m\u001b[0;34m.\u001b[0m\u001b[0mfindall\u001b[0m\u001b[0;34m(\u001b[0m\u001b[0mhead\u001b[0m\u001b[0;34m)\u001b[0m\u001b[0;34m[\u001b[0m\u001b[0;36m0\u001b[0m\u001b[0;34m]\u001b[0m\u001b[0;34m\u001b[0m\u001b[0m\n\u001b[1;32m     14\u001b[0m     \u001b[0mINPUT\u001b[0m \u001b[0;34m+=\u001b[0m \u001b[0;34m[\u001b[0m\u001b[0;34m(\u001b[0m\u001b[0mi\u001b[0m\u001b[0;34m,\u001b[0m\u001b[0mdid2node\u001b[0m\u001b[0;34m[\u001b[0m\u001b[0mdid\u001b[0m\u001b[0;34m]\u001b[0m\u001b[0;34m)\u001b[0m\u001b[0;34m]\u001b[0m\u001b[0;34m\u001b[0m\u001b[0m\n",
      "\u001b[0;31mNameError\u001b[0m: name 'hash2did' is not defined"
     ]
    }
   ],
   "source": [
    "# l = 400\n",
    "l = 1200\n",
    "_ = np.random.seed(0)\n",
    "# idx = np.random.randint(0,len(data),l )\n",
    "# idxD = list2dict(idx)\n",
    "# pen = 0 \n",
    "# L = l * (l-1)/2\n",
    "_ = np.random.seed(0)\n",
    "# tdata = [data[i] for i in idx]\n",
    "\n",
    "INPUT = list()\n",
    "for i,head in hash2did.values():\n",
    "    did = p_cathFAheader.findall(head)[0]\n",
    "    INPUT += [(i,did2node[did])]\n",
    "l = len(INPUT)\n",
    "    # INPUT = hash2did\n",
    "it = itertools.combinations( INPUT,2 )\n",
    "# it = itertools.combinations( data[:l],2 )\n",
    "def f2(obj):\n",
    "    x,y = obj\n",
    "    v = x[-1] == y[-1]\n",
    "    return ( (x[0],y[0]), v)\n",
    "import multiprocessing as mp\n",
    "pool = mp.Pool(12)\n",
    "# res = pool.apply_async(f, it)      # runs in *only* one process\n",
    "# print res.get(timeout=1)              # prints \"400\"\n",
    "res = pool.map(f2, it)\n",
    "pool.close()\n",
    "pool.join()\n",
    "OUTPUT = scipy.sparse.dok_matrix( ( l, l), )\n",
    "# OUTPUT.update( res )\n",
    "OUTPUT.update({x:y for x,y in res})\n",
    "tm = OUTPUT\n"
   ]
  },
  {
   "cell_type": "code",
   "execution_count": 11,
   "metadata": {},
   "outputs": [
    {
     "name": "stdout",
     "output_type": "stream",
     "text": [
      "head -n 800 ./cath-dataset-nonredundant-S40.fa\n"
     ]
    }
   ],
   "source": [
    "\n",
    "\n"
   ]
  },
  {
   "cell_type": "code",
   "execution_count": 21,
   "metadata": {},
   "outputs": [
    {
     "name": "stdout",
     "output_type": "stream",
     "text": [
      "/alt/applic/jupyter/bin:/alt/applic/jupyter/bin:/home/fg368/bin:/alt/bin:/usr/local/bin:/usr/local/sbin:/bin:/sbin:/usr/bin:/usr/sbin:.\n"
     ]
    }
   ],
   "source": [
    "# print os.environ['PATH']"
   ]
  },
  {
   "cell_type": "code",
   "execution_count": 7,
   "metadata": {},
   "outputs": [
    {
     "name": "stdout",
     "output_type": "stream",
     "text": [
      "64\n"
     ]
    }
   ],
   "source": [
    "num_T = mp.cpu_count()  \n",
    "print num_T"
   ]
  },
  {
   "cell_type": "code",
   "execution_count": 12,
   "metadata": {},
   "outputs": [
    {
     "name": "stdout",
     "output_type": "stream",
     "text": [
      "./cath-dataset-nonredundant-S40.tmp\n",
      "1\n",
      "blosum62_logOFquot.mat\n",
      "fasta36 ./cath-dataset-nonredundant-S40.tmp ./cath-dataset-nonredundant-S40.tmp -T1 -m10 -f0 -g0 -z1 -E0.01 -s submat/blosum62_logOFquot.mat\n",
      "CPU times: user 0 ns, sys: 4 ms, total: 4 ms\n",
      "Wall time: 13.6 s\n",
      "3\n",
      "blosum62_logOFquot.mat\n",
      "fasta36 ./cath-dataset-nonredundant-S40.tmp ./cath-dataset-nonredundant-S40.tmp -T3 -m10 -f0 -g0 -z1 -E0.01 -s submat/blosum62_logOFquot.mat\n",
      "CPU times: user 4 ms, sys: 0 ns, total: 4 ms\n",
      "Wall time: 7.59 s\n",
      "5\n",
      "blosum62_logOFquot.mat\n",
      "fasta36 ./cath-dataset-nonredundant-S40.tmp ./cath-dataset-nonredundant-S40.tmp -T5 -m10 -f0 -g0 -z1 -E0.01 -s submat/blosum62_logOFquot.mat\n",
      "CPU times: user 0 ns, sys: 4 ms, total: 4 ms\n",
      "Wall time: 6.61 s\n",
      "7\n",
      "blosum62_logOFquot.mat\n",
      "fasta36 ./cath-dataset-nonredundant-S40.tmp ./cath-dataset-nonredundant-S40.tmp -T7 -m10 -f0 -g0 -z1 -E0.01 -s submat/blosum62_logOFquot.mat\n",
      "CPU times: user 0 ns, sys: 4 ms, total: 4 ms\n",
      "Wall time: 6.59 s\n",
      "9\n",
      "blosum62_logOFquot.mat\n",
      "fasta36 ./cath-dataset-nonredundant-S40.tmp ./cath-dataset-nonredundant-S40.tmp -T9 -m10 -f0 -g0 -z1 -E0.01 -s submat/blosum62_logOFquot.mat\n",
      "CPU times: user 0 ns, sys: 0 ns, total: 0 ns\n",
      "Wall time: 6.53 s\n",
      "11\n",
      "blosum62_logOFquot.mat\n",
      "fasta36 ./cath-dataset-nonredundant-S40.tmp ./cath-dataset-nonredundant-S40.tmp -T11 -m10 -f0 -g0 -z1 -E0.01 -s submat/blosum62_logOFquot.mat\n",
      "CPU times: user 4 ms, sys: 0 ns, total: 4 ms\n",
      "Wall time: 6.59 s\n",
      "13\n",
      "blosum62_logOFquot.mat\n",
      "fasta36 ./cath-dataset-nonredundant-S40.tmp ./cath-dataset-nonredundant-S40.tmp -T13 -m10 -f0 -g0 -z1 -E0.01 -s submat/blosum62_logOFquot.mat\n",
      "CPU times: user 4 ms, sys: 0 ns, total: 4 ms\n",
      "Wall time: 6.72 s\n",
      "CPU times: user 16 ms, sys: 48 ms, total: 64 ms\n",
      "Wall time: 54.5 s\n"
     ]
    }
   ],
   "source": [
    "%%time\n",
    "import subprocess\n",
    "import multiprocessing as mp\n",
    "\n",
    "matDIR = 'submat/'\n",
    "matlist = ['blosum62_logOFquot.mat',\n",
    "'blosum62_quotOFlog.mat',\n",
    "'blosum62_quotOFlog_atan.mat',\n",
    "]\n",
    "DIR = 'result'\n",
    "\n",
    "\n",
    "fname = ftmp\n",
    "import multiprocessing as mp\n",
    "print ftmp\n",
    "num_T = mp.cpu_count() - 1\n",
    "# num_T = mp.cpu_count() - 1\n",
    "num_T = 9\n",
    "\n",
    "\n",
    "assert os.path.isdir(DIR),'Directory not found:\"%s\"'%DIR\n",
    "\n",
    "for matname in matlist:\n",
    "# for num_T in range(1,14,2):\n",
    "#     matname = matlist[0]\n",
    "    print num_T\n",
    "    print matname\n",
    "#     mat = \n",
    "    cmd = 'fasta36 %s %s -T%d -m10 -f0 -g0 -z1 -E0.01 -s %s' % (fname,\n",
    "                                               fname,\n",
    "                                                num_T,\n",
    "                                                matDIR + matname)\n",
    "    print cmd\n",
    "    oname = os.path.join(DIR,fname  + '_%s.m10' % matname)\n",
    "    # buf = open()\n",
    "    with open(oname,'w') as outf:\n",
    "        %time subprocess.check_call( cmd.split(), stdin=None, stdout=outf, stderr=None, shell=False)\n"
   ]
  },
  {
   "cell_type": "code",
   "execution_count": 6,
   "metadata": {},
   "outputs": [
    {
     "ename": "NameError",
     "evalue": "name 'fname' is not defined",
     "output_type": "error",
     "traceback": [
      "\u001b[0;31m---------------------------------------------------------------------------\u001b[0m",
      "\u001b[0;31mNameError\u001b[0m                                 Traceback (most recent call last)",
      "\u001b[0;32m<ipython-input-6-af1aa83888fb>\u001b[0m in \u001b[0;36m<module>\u001b[0;34m()\u001b[0m\n\u001b[1;32m      1\u001b[0m \u001b[0;32mimport\u001b[0m \u001b[0mBio\u001b[0m\u001b[0;34m.\u001b[0m\u001b[0mSeqIO\u001b[0m\u001b[0;34m\u001b[0m\u001b[0m\n\u001b[0;32m----> 2\u001b[0;31m \u001b[0mit\u001b[0m \u001b[0;34m=\u001b[0m \u001b[0mBio\u001b[0m\u001b[0;34m.\u001b[0m\u001b[0mSeqIO\u001b[0m\u001b[0;34m.\u001b[0m\u001b[0mparse\u001b[0m\u001b[0;34m(\u001b[0m \u001b[0mfname\u001b[0m\u001b[0;34m,\u001b[0m\u001b[0;34m'fasta'\u001b[0m \u001b[0;34m)\u001b[0m\u001b[0;34m\u001b[0m\u001b[0m\n\u001b[0m\u001b[1;32m      3\u001b[0m \u001b[0mhash2did\u001b[0m \u001b[0;34m=\u001b[0m \u001b[0;34m{\u001b[0m\u001b[0;34m}\u001b[0m\u001b[0;34m\u001b[0m\u001b[0m\n\u001b[1;32m      4\u001b[0m \u001b[0;31m# i = 0\u001b[0m\u001b[0;34m\u001b[0m\u001b[0;34m\u001b[0m\u001b[0m\n\u001b[1;32m      5\u001b[0m \u001b[0;32mfor\u001b[0m \u001b[0mi\u001b[0m\u001b[0;34m,\u001b[0m\u001b[0ment\u001b[0m \u001b[0;32min\u001b[0m \u001b[0menumerate\u001b[0m\u001b[0;34m(\u001b[0m\u001b[0mit\u001b[0m\u001b[0;34m)\u001b[0m\u001b[0;34m:\u001b[0m\u001b[0;34m\u001b[0m\u001b[0m\n",
      "\u001b[0;31mNameError\u001b[0m: name 'fname' is not defined"
     ]
    }
   ],
   "source": [
    "import Bio.SeqIO\n",
    "it = Bio.SeqIO.parse( fname,'fasta' )\n",
    "hash2did = {}\n",
    "# i = 0\n",
    "for i,ent in enumerate(it):\n",
    "    h = hash(ent.name) \n",
    "    hash2did[ h ] = (i,ent.name)"
   ]
  },
  {
   "cell_type": "code",
   "execution_count": 8,
   "metadata": {
    "collapsed": true
   },
   "outputs": [],
   "source": [
    "# with open(oname,'r') as f:\n",
    "#     lines = f.readlines()\n",
    "import Bio.SearchIO\n",
    "it = Bio.SearchIO.parse( oname,'fasta-m10' )\n",
    "# ent = next(it)\n",
    "# ?ent\n",
    "# hits = ent.__dict__['_items']\n",
    "\n",
    "xs = []\n",
    "ys = []\n",
    "d  = {}\n",
    "\n",
    "for ent in it:\n",
    "#     print ent\n",
    "    hits = ent.__dict__['_items']\n",
    "    qid = hash(ent.id)\n",
    "    for hit in hits.values():\n",
    "        v = hit[0].bitscore\n",
    "        jid = hash(hit.id)\n",
    "        d[ ( qid, jid) ] = v"
   ]
  },
  {
   "cell_type": "code",
   "execution_count": 10,
   "metadata": {
    "collapsed": true
   },
   "outputs": [],
   "source": [
    "import scipy.sparse\n",
    "l = len(hash2did)\n",
    "om = scipy.sparse.dok_matrix( (l,l) )\n",
    "order_d = { (hash2did[k[0]][0],\n",
    "            hash2did[k[1]][0]):\n",
    "           v for k,v in d.iteritems()\n",
    "          }\n",
    "om.update(order_d)\n",
    "\n",
    "oms = [om]\n",
    "# om = om.todense()\n"
   ]
  },
  {
   "cell_type": "code",
   "execution_count": 90,
   "metadata": {
    "collapsed": true
   },
   "outputs": [],
   "source": []
  },
  {
   "cell_type": "code",
   "execution_count": 11,
   "metadata": {},
   "outputs": [
    {
     "ename": "NameError",
     "evalue": "name 'tm' is not defined",
     "output_type": "error",
     "traceback": [
      "\u001b[0;31m\u001b[0m",
      "\u001b[0;31mNameError\u001b[0mTraceback (most recent call last)",
      "\u001b[0;32m<ipython-input-11-3498f78b306e>\u001b[0m in \u001b[0;36m<module>\u001b[0;34m()\u001b[0m\n\u001b[0;32m----> 1\u001b[0;31m \u001b[0mtm\u001b[0m \u001b[0;34m=\u001b[0m \u001b[0mtm\u001b[0m\u001b[0;34m.\u001b[0m\u001b[0mtocsr\u001b[0m\u001b[0;34m(\u001b[0m\u001b[0;34m)\u001b[0m\u001b[0;34m\u001b[0m\u001b[0m\n\u001b[0m\u001b[1;32m      2\u001b[0m \u001b[0mxss\u001b[0m \u001b[0;34m=\u001b[0m \u001b[0;34m[\u001b[0m\u001b[0;34m]\u001b[0m\u001b[0;34m\u001b[0m\u001b[0m\n\u001b[1;32m      3\u001b[0m \u001b[0myss\u001b[0m \u001b[0;34m=\u001b[0m \u001b[0;34m[\u001b[0m\u001b[0;34m]\u001b[0m\u001b[0;34m\u001b[0m\u001b[0m\n\u001b[1;32m      4\u001b[0m \u001b[0;32mfor\u001b[0m \u001b[0mom\u001b[0m \u001b[0;32min\u001b[0m \u001b[0moms\u001b[0m\u001b[0;34m[\u001b[0m\u001b[0;34m:\u001b[0m\u001b[0;34m]\u001b[0m\u001b[0;34m:\u001b[0m\u001b[0;34m\u001b[0m\u001b[0m\n\u001b[1;32m      5\u001b[0m \u001b[0;31m#     d = scipy.sparse.dok_matrix( (l,l) )\u001b[0m\u001b[0;34m\u001b[0m\u001b[0;34m\u001b[0m\u001b[0m\n",
      "\u001b[0;31mNameError\u001b[0m: name 'tm' is not defined"
     ]
    }
   ],
   "source": [
    "tm = tm.tocsr()\n",
    "xss = []\n",
    "yss = []\n",
    "for om in oms[:]:\n",
    "#     d = scipy.sparsere.dok_matrix( (l,l) )\n",
    "#     d.update(\n",
    "#         { (idxD[i],idxD[j]):v for (i,j),v in om.iteritems()}\n",
    "#     )\n",
    "#     om = d.tocsr()\n",
    "    om = om.tocsr()\n",
    "    thres = 1  \n",
    "    xs = []\n",
    "    ys = []\n",
    "    it = np.linspace( om.min(), om.max(), 200)\n",
    "    for thres in it:\n",
    "        tp,fp = compare( om > thres ,tm)\n",
    "        xs += [fp]\n",
    "        ys += [tp] \n",
    "    xss += [xs]\n",
    "    yss += [ys]"
   ]
  },
  {
   "cell_type": "code",
   "execution_count": 39,
   "metadata": {
    "collapsed": true
   },
   "outputs": [],
   "source": [
    "pk_dump([tm,oms],'1200seq')\n"
   ]
  },
  {
   "cell_type": "code",
   "execution_count": 42,
   "metadata": {
    "collapsed": true
   },
   "outputs": [],
   "source": [
    "pk_dump(did2node,'hashcath')"
   ]
  },
  {
   "cell_type": "code",
   "execution_count": 103,
   "metadata": {},
   "outputs": [
    {
     "data": {
      "text/plain": [
       "<matplotlib.legend.Legend at 0x7fcec01fd690>"
      ]
     },
     "execution_count": 103,
     "metadata": {},
     "output_type": "execute_result"
    },
    {
     "data": {
      "image/png": "[encoded data removed]",
      "text/plain": [
       "<matplotlib.figure.Figure at 0x7fcea8b5af10>"
      ]
     },
     "metadata": {},
     "output_type": "display_data"
    }
   ],
   "source": [
    "# compare(tm ,om)\n",
    "import matplotlib\n",
    "matplotlib.use('Agg')\n",
    "%matplotlib inline\n",
    "import matplotlib.pyplot as plt\n",
    "fig = plt.figure()\n",
    "ax1 = plt.subplot(111)\n",
    "ax1.set_xlabel('False positive')\n",
    "ax1.set_ylabel('True positive')\n",
    "ax1.set_xscale('log')\n",
    "ax1.set_yscale('log')\n",
    "\n",
    "lbl = 0\n",
    "for xs,ys in izip(xss,yss):\n",
    "    lbl += 1\n",
    "    if lbl ==6:\n",
    "        break\n",
    "    ax1.plot(xs,ys, label = lbl)\n",
    "# ax1.set_ylim(bottom = 40)\n",
    "# ax1.set_ylim(bottom = 40)\n",
    "\n",
    "ax1.legend()\n",
    "\n",
    "# np.mean(tm.todense())"
   ]
  },
  {
   "cell_type": "code",
   "execution_count": 9,
   "metadata": {},
   "outputs": [
    {
     "name": "stdout",
     "output_type": "stream",
     "text": [
      "Object `pairwise2.align.globaldx` not found.\n"
     ]
    }
   ],
   "source": [
    "# import django_CATH.models \n",
    "\n",
    "# ll =  list( django_CATH.models.domain.objects.values_list('domain_id','hier__Class','hier__arch', 'hier__topo', 'hier__homsf'))\n",
    "# dids = []\n",
    "# sfs = []\n",
    "# for i,c,a,t,h in ll:\n",
    "#     dids.append(i)\n",
    "#     sfs.append( (c,a,t,h) )\n",
    "# hh_sfs = list2dict(set(sfs))\n",
    "# sfs = [hh_sfs[x] for x in sfs]\n",
    "# did2node = dict(zip(dids,sfs))\n",
    "\n",
    "def compare( om, tm = None, thres = 0.5):\n",
    "    tm = tm.tocsr()\n",
    "    om = om.tocsr()\n",
    "    tp = ((om + tm)  == 2).sum()\n",
    "    fp = ((om - tm)  == 1).sum()\n",
    "    return tp,fp,\n",
    "# def GETcath_node(acc, domain_model = domain_model):\n",
    "#     try:\n",
    "#         # d = domain.objects.get(self.acc)\n",
    "#         d = domain_model.objects.get( domain_id = acc)\n",
    "#         node = d.superfamily()\n",
    "#     except:\n",
    "#         node = None\n",
    "#     return node\n",
    "from Bio.SubsMat import MatrixInfo as matlist\n",
    "matrix = matlist.blosum62\n",
    "?pairwise2.align.globaldx(\"KEVLA\", \"EVL\", matrix)\n",
    "xss = []\n",
    "yss = []\n",
    "\n",
    "# matrix\n",
    "# for a in pairwise2.align.globaldx(\"KEVLA\", \"EVL\", matrix):\n",
    "#     print(format_alignment(*a))\n",
    "#     Score=13\n"
   ]
  },
  {
   "cell_type": "code",
   "execution_count": 8,
   "metadata": {},
   "outputs": [
    {
     "ename": "NameError",
     "evalue": "name 'mdct' is not defined",
     "output_type": "error",
     "traceback": [
      "\u001b[0;31m---------------------------------------------------------------------------\u001b[0m",
      "\u001b[0;31mNameError\u001b[0m                                 Traceback (most recent call last)",
      "\u001b[0;32m<ipython-input-8-cd25c5c22554>\u001b[0m in \u001b[0;36m<module>\u001b[0;34m()\u001b[0m\n\u001b[1;32m      1\u001b[0m \u001b[0mdmat\u001b[0m \u001b[0;34m=\u001b[0m \u001b[0mscipy\u001b[0m\u001b[0;34m.\u001b[0m\u001b[0msparse\u001b[0m\u001b[0;34m.\u001b[0m\u001b[0mdok_matrix\u001b[0m\u001b[0;34m(\u001b[0m\u001b[0;34m(\u001b[0m\u001b[0;36m23\u001b[0m\u001b[0;34m,\u001b[0m\u001b[0;36m23\u001b[0m\u001b[0;34m)\u001b[0m\u001b[0;34m)\u001b[0m\u001b[0;34m\u001b[0m\u001b[0m\n\u001b[0;32m----> 2\u001b[0;31m \u001b[0madict\u001b[0m \u001b[0;34m=\u001b[0m \u001b[0mlist2dict\u001b[0m\u001b[0;34m(\u001b[0m \u001b[0mset\u001b[0m\u001b[0;34m(\u001b[0m\u001b[0mx\u001b[0m \u001b[0;32mfor\u001b[0m \u001b[0mx\u001b[0m\u001b[0;34m,\u001b[0m\u001b[0m_\u001b[0m \u001b[0;32min\u001b[0m \u001b[0mmdct\u001b[0m\u001b[0;34m)\u001b[0m\u001b[0;34m)\u001b[0m\u001b[0;34m\u001b[0m\u001b[0m\n\u001b[0m\u001b[1;32m      3\u001b[0m \u001b[0mdct\u001b[0m \u001b[0;34m=\u001b[0m \u001b[0;34m{\u001b[0m \u001b[0;34m(\u001b[0m\u001b[0madict\u001b[0m\u001b[0;34m[\u001b[0m\u001b[0mi\u001b[0m\u001b[0;34m]\u001b[0m\u001b[0;34m,\u001b[0m\u001b[0madict\u001b[0m\u001b[0;34m[\u001b[0m\u001b[0mj\u001b[0m\u001b[0;34m]\u001b[0m\u001b[0;34m)\u001b[0m\u001b[0;34m:\u001b[0m\u001b[0mv\u001b[0m \u001b[0;32mfor\u001b[0m \u001b[0;34m(\u001b[0m\u001b[0mi\u001b[0m\u001b[0;34m,\u001b[0m\u001b[0mj\u001b[0m\u001b[0;34m)\u001b[0m\u001b[0;34m,\u001b[0m\u001b[0mv\u001b[0m \u001b[0;32min\u001b[0m \u001b[0mmdct\u001b[0m\u001b[0;34m.\u001b[0m\u001b[0mitems\u001b[0m\u001b[0;34m(\u001b[0m\u001b[0;34m)\u001b[0m\u001b[0;34m}\u001b[0m\u001b[0;34m\u001b[0m\u001b[0m\n\u001b[1;32m      4\u001b[0m \u001b[0mdmat\u001b[0m\u001b[0;34m.\u001b[0m\u001b[0mupdate\u001b[0m\u001b[0;34m(\u001b[0m\u001b[0mdct\u001b[0m\u001b[0;34m)\u001b[0m\u001b[0;34m\u001b[0m\u001b[0m\n\u001b[1;32m      5\u001b[0m \u001b[0mdg\u001b[0m \u001b[0;34m=\u001b[0m \u001b[0mscipy\u001b[0m\u001b[0;34m.\u001b[0m\u001b[0mdiag\u001b[0m\u001b[0;34m(\u001b[0m\u001b[0mscipy\u001b[0m\u001b[0;34m.\u001b[0m\u001b[0mdiag\u001b[0m\u001b[0;34m(\u001b[0m\u001b[0mdmat\u001b[0m\u001b[0;34m.\u001b[0m\u001b[0mtodense\u001b[0m\u001b[0;34m(\u001b[0m\u001b[0;34m)\u001b[0m\u001b[0;34m)\u001b[0m\u001b[0;34m)\u001b[0m\u001b[0;34m\u001b[0m\u001b[0m\n",
      "\u001b[0;31mNameError\u001b[0m: name 'mdct' is not defined"
     ]
    }
   ],
   "source": [
    "dmat = scipy.sparse.dok_matrix((23,23))\n",
    "adict = list2dict( set(x for x,_ in mdct))\n",
    "dct = { (adict[i],adict[j]):v for (i,j),v in mdct.items()}\n",
    "dmat.update(dct)\n",
    "dg = scipy.diag(scipy.diag(dmat.todense()))\n",
    "dmat = (dmat + dmat.T - dg)/2.\n",
    "plt.matshow(dmat.todense())\n",
    "plt.matshow(dmat)\n",
    "STD = dmat.std()\n",
    "MIN = dmat.min()\n",
    "MIN - STD\n",
    "\n",
    "# dmat.items()\n"
   ]
  },
  {
   "cell_type": "code",
   "execution_count": 7,
   "metadata": {},
   "outputs": [
    {
     "ename": "NameError",
     "evalue": "name 'fname' is not defined",
     "output_type": "error",
     "traceback": [
      "\u001b[0;31m---------------------------------------------------------------------------\u001b[0m",
      "\u001b[0;31mNameError\u001b[0m                                 Traceback (most recent call last)",
      "\u001b[0;32m<ipython-input-7-72e6b72a905e>\u001b[0m in \u001b[0;36m<module>\u001b[0;34m()\u001b[0m\n\u001b[1;32m      3\u001b[0m \u001b[0;31m# tm.mean()\u001b[0m\u001b[0;34m\u001b[0m\u001b[0;34m\u001b[0m\u001b[0m\n\u001b[1;32m      4\u001b[0m \u001b[0;31m# fname = full(\"$SEQlib/cath-dataset-nonredundant-S40.fa\")\u001b[0m\u001b[0;34m\u001b[0m\u001b[0;34m\u001b[0m\u001b[0m\n\u001b[0;32m----> 5\u001b[0;31m \u001b[0;32mwith\u001b[0m \u001b[0mopen\u001b[0m\u001b[0;34m(\u001b[0m\u001b[0mfname\u001b[0m\u001b[0;34m,\u001b[0m \u001b[0;34m'r'\u001b[0m\u001b[0;34m)\u001b[0m \u001b[0;32mas\u001b[0m \u001b[0mf\u001b[0m\u001b[0;34m:\u001b[0m\u001b[0;34m\u001b[0m\u001b[0m\n\u001b[0m\u001b[1;32m      6\u001b[0m     \u001b[0mlines\u001b[0m \u001b[0;34m=\u001b[0m  \u001b[0mf\u001b[0m\u001b[0;34m.\u001b[0m\u001b[0mreadlines\u001b[0m\u001b[0;34m(\u001b[0m\u001b[0;34m)\u001b[0m\u001b[0;34m\u001b[0m\u001b[0m\n\u001b[1;32m      7\u001b[0m \u001b[0mseqs\u001b[0m \u001b[0;34m=\u001b[0m \u001b[0;34m[\u001b[0m\u001b[0;34m]\u001b[0m\u001b[0;34m\u001b[0m\u001b[0m\n",
      "\u001b[0;31mNameError\u001b[0m: name 'fname' is not defined"
     ]
    }
   ],
   "source": [
    "################ old routine ########################\n",
    "# om.mean()\n",
    "# tm.mean()\n",
    "# fname = full(\"$SEQlib/cath-dataset-nonredundant-S40.fa\")\n",
    "with open(fname, 'r') as f:\n",
    "    lines =  f.readlines()\n",
    "seqs = []\n",
    "sfs  = []\n",
    "data = []\n",
    "for i in range(0,len(lines),2):\n",
    "    header = lines[i]\n",
    "    seq = lines[i+1].rstrip('\\n')\n",
    "    acc = p_cathFAheader.findall(header)[0]\n",
    "    if not acc in did2node:\n",
    "        continue    \n",
    "    sf = did2node[acc]\n",
    "    data.append( (i//2,acc,sf,seq) ) \n",
    "\n"
   ]
  },
  {
   "cell_type": "code",
   "execution_count": null,
   "metadata": {
    "collapsed": true
   },
   "outputs": [],
   "source": [
    "dmat.mean()"
   ]
  },
  {
   "cell_type": "code",
   "execution_count": 231,
   "metadata": {},
   "outputs": [
    {
     "data": {
      "text/plain": [
       "['B', 'X', 'Z']"
      ]
     },
     "execution_count": 231,
     "metadata": {},
     "output_type": "execute_result"
    }
   ],
   "source": [
    "# alist\n",
    "# mdct\n",
    "l = '    A      R      N      D      C      Q      E      G      H      I      L      K      M      F      P      S      T      W      Y      V  '.split()\n",
    "[x for x in adict if x not in l]\n",
    "# \n",
    "# ?hash((2,3,5,9))"
   ]
  },
  {
   "cell_type": "code",
   "execution_count": 258,
   "metadata": {
    "collapsed": true
   },
   "outputs": [],
   "source": [
    "it = itertools.combinations( data[:50],2 )\n",
    "list(batch_qs(list(it), (L //ncore + 1)).__len__()\n",
    "?batch_qs"
   ]
  },
  {
   "cell_type": "code",
   "execution_count": 10,
   "metadata": {},
   "outputs": [
    {
     "name": "stdout",
     "output_type": "stream",
     "text": [
      "17\n"
     ]
    },
    {
     "data": {
      "text/plain": [
       "<matplotlib.image.AxesImage at 0x7f71bf12bf10>"
      ]
     },
     "execution_count": 10,
     "metadata": {},
     "output_type": "execute_result"
    }
   ],
   "source": [
    "## URL: ftp://ftp.ncbi.nih.gov/repository/blocks/unix/blosum/BLOSUM/blosum62.out\n",
    "import numpy as np\n",
    "s = '''\n",
    "Frequencies = fij pairs (off-diagonals = 2*fij):\n",
    "    A      R      N      D      C      Q      E      G      H      I      L      K      M      F      P      S      T      W      Y      V  \n",
    " 10682.82 \n",
    "  3034.87   8494.79 \n",
    "  2677.36   2210.31   5606.34 \n",
    "  2891.15   2068.86   3892.52   8992.11 \n",
    "  1689.11    566.42    652.05    546.53   5057.53 \n",
    "  2441.71   2812.23   1757.19   1933.64    417.90   3191.29 \n",
    "  3837.90   3269.54   2524.00   5358.06    639.98   3670.58   7875.47 \n",
    "  6935.48   2265.08   3479.11   3148.02    962.77   1843.05   2507.44  17597.50 \n",
    "  1351.17   1439.05   1674.77   1250.48    317.89   1162.52   1416.43   1222.49   3554.27 \n",
    "  3906.94   1654.55   1404.28   1357.79    935.28   1252.95   1674.21   1952.28    725.87   7798.61 \n",
    "  5354.86   3141.84   1917.64   2041.07   1544.93   2093.64   2875.89   2964.24   1440.65  11576.47  16939.58 \n",
    "  3689.71   7089.26   2983.71   2950.49    661.72   3194.38   4844.61   3118.43   1506.60   1934.51   2953.51   7241.46 \n",
    "  1774.76    980.91    724.98    607.40    412.85    910.78    927.94   1042.21    510.32   2503.11   4648.35   1077.46   1595.24 \n",
    "  2240.63   1317.72   1025.84    928.86    675.63    780.32   1379.43   1638.17    999.38   3397.82   6462.76   1380.05   1374.17   8552.17 \n",
    "  2492.00   1258.01   1201.10   1661.25    409.72   1193.88   2156.68   2086.22    655.00   1491.83   1931.79   2013.28    605.18    823.20   9501.33 \n",
    "  6916.08   2838.82   3540.37   3138.24   1227.18   2473.26   3299.41   4890.12   1346.91   2316.44   3234.27   3424.75   1102.55   1762.50   2057.56   6193.92 \n",
    "  4365.37   2312.40   2852.92   2500.45   1076.15   1668.51   2725.77   2770.49    950.88   3251.22   4278.60   2882.78   1268.59   1617.45   1804.51   5250.78   5543.30 \n",
    "   541.81    430.02    250.35    240.98    106.37    381.15    472.38    569.39    179.24    511.16    878.02    407.96    283.58    990.14    262.28    356.34    406.23   3282.03 \n",
    "  1703.39   1444.85   1003.84    967.47    448.60    967.06   1372.64   1287.71   1447.71   1974.89   3061.73   1442.13    835.20   4351.38    714.27   1444.93   1364.06    902.82   4307.45 \n",
    "  6063.16   2202.29   1631.30   1790.49   1456.31   1570.86   2182.23   2400.08    824.82  11956.78  10215.18   2441.76   2387.67   3336.68   1730.34   3257.51   4526.65    536.28   1965.96   9111.27 \n",
    "  '''\n",
    "\n",
    "def dmat2mdct(dmat, alist):\n",
    "    dmat = scipy.sparse.dok_matrix(dmat)\n",
    "#     try:\n",
    "#         dmat = dmat.todense()\n",
    "#     except:\n",
    "#         pass\n",
    "    dg = scipy.diag(scipy.diag(dmat.todense()))\n",
    "    mdct ={ (alist[i],alist[j]):v for (i,j),v in dmat.iteritems()}\n",
    "    return mdct\n",
    "def mdct2dmat (mdct, ):\n",
    "    adict = list2dict( set(x for x,_ in mdct))\n",
    "    l = len(adict)\n",
    "    dmat = scipy.sparse.dok_matrix((l,l))\n",
    "    dct = { (adict[i],adict[j]):v for (i,j),v in mdct.items()}\n",
    "    dmat.update(dct)\n",
    "    dg = scipy.diag(scipy.diag(dmat.todense()))\n",
    "    dmat = (dmat + dmat.T - dg)/2.\n",
    "#     if dmat\n",
    "    return dmat,adict\n",
    "\n",
    "import matplotlib.pyplot as plt\n",
    "lines  = s.splitlines()\n",
    "alist  = lines[2].split()\n",
    "adict = { v:i for i,v in enumerate(alist)};\n",
    "OUTPUT = {}\n",
    "for i0,line in enumerate(lines[3:]):    \n",
    "#     print list( ((i0,i1):float(v)) for i1,v in enumerate(line.split()))\n",
    "    OUTPUT.update({(i0,i1):float(v) for i1,v in enumerate(line.split())})\n",
    "import scipy.sparse\n",
    "# import scipy\n",
    "m0 = scipy.sparse.dok_matrix( (23,23 ), 'float')\n",
    "m0.update(OUTPUT)\n",
    "m0 = m0.todense()\n",
    "dg0 = np.diag(m0)\n",
    "print adict['W']\n",
    "m0[20,:] = m0[adict['W'],:] + m0[:,adict['W']].T\n",
    "m0[21,:] = m0[adict['E'],:] + m0[:,adict['E']].T\n",
    "m0[20,20] = dg0[adict['W']]\n",
    "m0[21,21] = dg0[adict['E']]\n",
    "\n",
    "idx = sorted([adict['W'],adict['E']])\n",
    "m0[20,21] = m0[idx[0],idx[1]]\n",
    "alist += ['Y','Z','X']\n",
    "# adict['Y'] = 20\n",
    "# adict['Z'] = 21\n",
    "# adict['X'] = 22\n",
    "\n",
    "# m0[22,:] = m0[m0>0].min()\n",
    "# m0[adict['W'], 20] = np.sqrt(dg0[adict['W']])\n",
    "# m0[adict['E'], 21] = np.sqrt(dg0[adict['W']])\n",
    "# m0[adict['W'], 20] = np.sqrt(dg0[adict['W']])\n",
    "plt.matshow(m0)\n",
    "# m0[m0==0]\n"
   ]
  },
  {
   "cell_type": "code",
   "execution_count": 361,
   "metadata": {},
   "outputs": [
    {
     "data": {
      "text/plain": [
       "-6.5298722308177704"
      ]
     },
     "execution_count": 361,
     "metadata": {},
     "output_type": "execute_result"
    }
   ],
   "source": [
    " mat1[:22,:22].min()"
   ]
  },
  {
   "cell_type": "code",
   "execution_count": 8,
   "metadata": {},
   "outputs": [
    {
     "data": {
      "text/plain": [
       "(23, 23)"
      ]
     },
     "execution_count": 8,
     "metadata": {},
     "output_type": "execute_result"
    }
   ],
   "source": [
    "write_mat(mdct,)\n",
    "\n",
    "mat5.shape"
   ]
  },
  {
   "cell_type": "code",
   "execution_count": 11,
   "metadata": {},
   "outputs": [],
   "source": [
    "# print \n",
    "import sys\n",
    "import os\n",
    "def dmat2mdct(dmat, alist):\n",
    "    dmat = scipy.sparse.dok_matrix(dmat)\n",
    "#     try:\n",
    "#         dmat = dmat.todense()\n",
    "#     except:\n",
    "#         pass\n",
    "    dg = scipy.diag(scipy.diag(dmat.todense()))\n",
    "    mdct ={ (alist[i],alist[j]):v for (i,j),v in dmat.iteritems()}\n",
    "    return mdct\n",
    "def mdct2dmat (mdct, ):\n",
    "    alist = list( set(x for x,_ in mdct) )\n",
    "    adict = list2dict( alist)\n",
    "    l = len(adict)\n",
    "    dmat = scipy.sparse.dok_matrix((l,l))\n",
    "    dct = { (adict[i],adict[j]):v for (i,j),v in mdct.items()}\n",
    "    dmat.update(dct)\n",
    "    dg = scipy.diag(scipy.diag(dmat.todense()))\n",
    "    dmat = (dmat + dmat.T - dg)/2.\n",
    "    alist = [None] * len(adict)\n",
    "#     if dmat\n",
    "    return dmat,alist\n",
    "\n",
    "# for row_label, row in zip(row_labels, x):\n",
    "#     print '%s [%s]' % (row_label, ' '.join('%03s' % i for i in row))\n",
    "\n",
    "def savemat(fname, dmat, alist, DIR = 'submat', examine = False):\n",
    "    assert os.path.isdir(DIR),'[Error]: No such directory \"%s\"' % DIR\n",
    "    with open( os.path.join(DIR,fname) ,'w+') as fout:\n",
    "#         print >>fout,'   ',\n",
    "#         fout.write(' ')\n",
    "#         print >>fout,' %04s'.join(alist)\n",
    "        print >>fout,'  %04s' % ''.join('%04s' % i for i in alist)\n",
    "        dmat = np.array(dmat.astype('int'))\n",
    "#         buf = '%s' % ( np.array(mat1.astype('int')))\n",
    "#         lines = buf.splitlines()\n",
    "#         for line,a in zip(lines,alist):\n",
    "#             print >>fout,' %s'%a,\n",
    "#             l = line.strip().strip('[').strip(']')\n",
    "#             print >> fout,l\n",
    "            \n",
    "        for line,a in zip( dmat,alist):\n",
    "            print >>fout, ' %s%s' %(a,\n",
    "                                     ''.join('%04s' % i for i in line)\n",
    "                                    )\n",
    "        if examine:\n",
    "            fout.seek(0)\n",
    "            print fout.read()\n",
    "# savemat('tmpmat',mat2,alist)\n",
    "# savemat('tmpmat',mat2 * scale,alist)\n",
    "# np.set_printoptions?\n",
    "\n",
    "class submat(object):\n",
    "    def __init__(self, mat,  alist = None, alias = 'tmpmat',):\n",
    "        self.fname = alias+'.mat'\n",
    "        if not alist:\n",
    "            if isinstance(mat,dict):\n",
    "                mat, alist = mdct2dmat( mat )\n",
    "            else:\n",
    "                raise Exception('single argument must be a dict')\n",
    "        else:\n",
    "            pass\n",
    "        self.mat = mat\n",
    "        self.alist = alist\n",
    "    def savemat(self,):\n",
    "        savemat(self.fname, self.mat, self.alist)\n",
    "#     break"
   ]
  },
  {
   "cell_type": "code",
   "execution_count": 63,
   "metadata": {},
   "outputs": [
    {
     "name": "stderr",
     "output_type": "stream",
     "text": [
      "/home/shouldsee/.local/lib/python2.7/site-packages/ipykernel_launcher.py:6: RuntimeWarning: divide by zero encountered in log10\n",
      "  \n",
      "/home/shouldsee/.local/lib/python2.7/site-packages/ipykernel_launcher.py:10: RuntimeWarning: divide by zero encountered in log10\n",
      "  # Remove the CWD from sys.path while we load stuff.\n",
      "/home/shouldsee/.local/lib/python2.7/site-packages/ipykernel_launcher.py:11: RuntimeWarning: invalid value encountered in divide\n",
      "  # This is added back by InteractiveShellApp.init_path()\n",
      "/home/shouldsee/.local/lib/python2.7/site-packages/ipykernel_launcher.py:17: RuntimeWarning: divide by zero encountered in log10\n",
      "/home/shouldsee/.local/lib/python2.7/site-packages/ipykernel_launcher.py:17: RuntimeWarning: invalid value encountered in divide\n",
      "/home/shouldsee/.local/lib/python2.7/site-packages/ipykernel_launcher.py:23: RuntimeWarning: divide by zero encountered in log10\n",
      "/home/shouldsee/.local/lib/python2.7/site-packages/ipykernel_launcher.py:23: RuntimeWarning: invalid value encountered in divide\n"
     ]
    },
    {
     "data": {
      "image/png": "[encoded data removed]",
      "text/plain": [
       "<matplotlib.figure.Figure at 0x7f71b3c97410>"
      ]
     },
     "metadata": {},
     "output_type": "display_data"
    },
    {
     "data": {
      "image/png": "[encoded data removed]",
      "text/plain": [
       "<matplotlib.figure.Figure at 0x7f71b3b9de10>"
      ]
     },
     "metadata": {},
     "output_type": "display_data"
    }
   ],
   "source": [
    "dg =  np.diag(np.diag(m0))\n",
    "m0 = (m0 + m0.T) / 2\n",
    "\n",
    "fmat = m0\n",
    "marfs = m0.sum(axis = 1)\n",
    "lmarfs = np.log10(marfs)\n",
    "pmat = fmat.copy() / sum(marfs)\n",
    "\n",
    "marps = pmat.sum(axis = 1)\n",
    "lmarps = np.log10(marps)\n",
    "npmat = pmat.copy() / marps.T /marps\n",
    "\n",
    "mat1 = (10 * np.log10(npmat))\n",
    "mat1[22,:] =  mat1[:22,:22].mean()\n",
    "mat1[:,22] =  mat1[:22,:22].mean()\n",
    "\n",
    "mat2 =  10 * (lmarps + lmarps.T) / np.log10(pmat.copy())\n",
    "mat2[22,:] =  mat2[:22,:22].mean()\n",
    "mat2[:,22] =  mat2[:22,:22].mean()\n",
    "mat2 = mat2 - mat2.mean()\n",
    "mat2 = mat2 / mat2.std()\n",
    "\n",
    "mat3 =  np.arctan((lmarps + lmarps.T) / np.log10(pmat.copy()))\n",
    "mat3[22,:] =  mat3[:22,:22].min()\n",
    "mat3[:,22] =  mat3[:22,:22].min()\n",
    "mat3 = mat3 - mat3.mean()\n",
    "mat3 = mat3 / mat3.std()\n",
    "\n",
    "mat4 =  scipy.matrix(np.random.normal( mat2.mean(), mat2.std(), 23**2))\n",
    "mat4 = mat4.reshape(23,23)\n",
    "mdct = dmat2mdct(mat3,alist)\n",
    "\n",
    "mat5 = mat1.copy()\n",
    "mat5 = mat5 - mat5.mean() \n",
    "mat5 = mat5 / mat5.std()  + 0.00001\n",
    "\n",
    "scale = 26\n",
    "savemat('blosum62_logOFquot.mat',mat5 * scale,alist)\n",
    "savemat('blosum62_quotOFlog.mat',mat2 * scale,alist)\n",
    "savemat('blosum62_quotOFlog_atan.mat',mat3 * scale,alist)\n",
    "savemat('blosum62_logOFquot95.mat',mat6 * scale,alist)\n",
    "\n",
    "\n",
    "# mat5[22,:] =  mat5[:22,:22].mean()\n",
    "# mat5[:,22] =  mat5[:22,:22].mean()\n",
    "\n",
    "\n",
    "# mat4 =  np.log10(fmat.copy())/(lmarfs + lmarfs.T)\n",
    "# mat4[22,:] =  mat4[:22,:22].mean()\n",
    "# mat4[:,22] =  mat4[:22,:22].mean()\n",
    "\n",
    "mdct = matlist.blosum62\n",
    "mat0,_ = mdct2dmat(mdct) \n",
    "\n",
    "\n",
    "from sklearn.decomposition import PCA\n",
    "# pca = decomposition.PCA()\n",
    "for n in range(1,23):\n",
    "    pca = PCA(n_components=n)\n",
    "    X = mat0\n",
    "    pca.fit( X )\n",
    "    vr = sum(pca.explained_variance_ratio_)\n",
    "    if not vr > 0.9:\n",
    "        continue\n",
    "    Y = pca.transform( X )\n",
    "    mat6 = pca.inverse_transform(Y)\n",
    "    plt.matshow(mat6)\n",
    "    plt.matshow(mat0)\n",
    "    break\n",
    "mat6 = mat6 - mat6.mean() \n",
    "mat6 = mat6 / mat6.std()  + 0.00001\n",
    "\n",
    "# plt.matshow(Y.sample)\n",
    "\n",
    "# pca.inverse_transform(Y)\n",
    "# ?pca.transform\n",
    "# mat6 = pca.transform(Y.components_.T)\n",
    "# ?Y\n",
    "# mat6"
   ]
  },
  {
   "cell_type": "code",
   "execution_count": 44,
   "metadata": {},
   "outputs": [
    {
     "data": {
      "text/plain": [
       "array([[  5.89748188e-01,  -2.06063057e+00,   8.28995381e-01,\n",
       "          6.46371604e-01,   8.12250795e-01,   5.51139462e-01,\n",
       "         -5.73050195e-01,  -1.49794897e+00,  -8.80017941e-01,\n",
       "          2.70378438e-01,  -2.75377618e-01,  -3.28517616e-01,\n",
       "          3.57415696e-01,   4.77755819e-01,   2.87901498e-01,\n",
       "         -4.02680897e-01,  -3.84728689e-01,   6.30831965e-02,\n",
       "         -3.87320915e-02,   1.55752375e-03,  -5.30492565e-03,\n",
       "          1.28250518e-02,  -4.37150316e-16],\n",
       "       [  3.75415643e+00,  -2.33630198e+00,   2.86899459e+00,\n",
       "         -3.66442961e-02,   2.64472586e+00,  -1.82571655e+00,\n",
       "          2.27200099e+00,   4.35790120e-01,  -2.94076125e-01,\n",
       "          4.20585881e-02,   1.43587485e-01,   1.71020082e-01,\n",
       "         -1.30195297e-01,  -1.63318998e-01,  -5.99032175e-02,\n",
       "          2.62349940e-02,   1.06066458e-02,  -2.58728392e-02,\n",
       "          1.26913362e-02,  -7.52971382e-03,   4.58643673e-03,\n",
       "          2.24025278e-03,   5.55111512e-16],\n",
       "       [ -4.37898755e+00,   2.17377363e-01,   9.66403159e-01,\n",
       "         -1.68118321e+00,  -7.20525098e-01,  -9.00243920e-01,\n",
       "          5.05013118e-02,   8.42603583e-01,   2.60079865e-01,\n",
       "          1.55958198e-01,  -4.85457506e-02,   3.06565957e-02,\n",
       "          1.69599596e-01,   2.25820890e-01,  -1.61560486e-02,\n",
       "         -1.67395293e-01,  -7.59351901e-02,   1.81822829e-01,\n",
       "         -4.77549155e-02,   7.42718610e-02,   7.47324431e-02,\n",
       "         -3.04966903e-02,  -2.77555756e-16],\n",
       "       [ -4.11993783e+00,   4.49697573e-01,  -1.42539102e+00,\n",
       "          5.48081972e-01,  -8.59706406e-01,  -1.03066653e+00,\n",
       "          4.45240067e-01,  -6.27837421e-01,  -7.68652126e-01,\n",
       "          1.26704723e-01,  -4.65959590e-01,  -1.25566324e-01,\n",
       "         -4.15776116e-03,  -5.85355701e-01,   2.04344908e-01,\n",
       "          1.42337334e-02,  -6.76325779e-02,  -3.47525631e-01,\n",
       "          2.44665482e-02,  -6.29248751e-02,   5.81781665e-02,\n",
       "          1.46175586e-02,   3.33066907e-16],\n",
       "       [ -4.37755466e+00,  -6.50300542e-02,   1.24578086e+00,\n",
       "         -1.49982089e+00,  -1.85311331e+00,  -1.36713555e+00,\n",
       "          6.70327330e-01,   3.11672047e-01,  -1.08755278e-01,\n",
       "          3.59307083e-01,   7.34522578e-02,  -4.05557041e-01,\n",
       "          2.37841577e-02,   6.01825811e-01,  -2.03864648e-01,\n",
       "          2.50826673e-01,  -1.11369509e-02,  -1.27547302e-01,\n",
       "          1.26604908e-03,  -5.52205346e-02,  -5.27567300e-02,\n",
       "          1.20226936e-02,  -4.99600361e-16],\n",
       "       [ -1.20620287e+00,   2.02876106e-01,   3.88139343e+00,\n",
       "          5.20585557e-01,  -3.50894842e-01,   1.45754578e+00,\n",
       "         -1.79660940e+00,   4.15713416e-01,  -1.59182031e+00,\n",
       "         -4.12784676e-01,   7.57735773e-03,   2.29251371e-01,\n",
       "         -3.41778475e-01,  -2.05004464e-01,  -2.56719134e-01,\n",
       "          2.58929642e-01,   2.97219447e-02,  -2.83258737e-02,\n",
       "         -2.61148938e-02,   7.33409871e-03,   6.63758912e-03,\n",
       "          3.78609599e-03,  -7.77156117e-16],\n",
       "       [  4.79205534e+00,   2.33822819e+00,  -2.07705321e-01,\n",
       "         -1.44400533e+00,  -6.87557062e-01,   1.76797394e-01,\n",
       "         -1.97063196e-01,  -1.44225134e-01,  -3.30587510e-01,\n",
       "          1.34278232e+00,   8.55065617e-01,  -3.91307118e-01,\n",
       "         -2.89433714e-01,  -4.68392316e-01,  -1.52718204e-01,\n",
       "         -3.02382577e-01,  -5.85539814e-03,   2.49200311e-01,\n",
       "         -3.75430274e-03,  -3.87443801e-02,  -4.26922053e-03,\n",
       "          1.66567902e-03,   1.11022302e-16],\n",
       "       [  4.52163240e+00,  -2.30194062e+00,  -1.00931758e+00,\n",
       "         -1.31539543e+00,  -1.07734620e+00,   7.02585068e-02,\n",
       "         -7.36325434e-02,   6.33814262e-01,  -2.09208553e-01,\n",
       "         -1.44033630e-01,  -6.30379753e-01,   8.25048927e-02,\n",
       "          1.01049412e-01,   2.10412443e-02,   2.20383148e-01,\n",
       "         -9.73811523e-02,   3.98669923e-01,   3.52400660e-02,\n",
       "         -3.30219708e-02,   6.56631173e-02,   4.15842590e-03,\n",
       "          4.42633919e-02,  -5.55111512e-17],\n",
       "       [ -1.58744025e+00,   3.30840086e+00,  -8.12359461e-01,\n",
       "         -1.79289907e+00,   1.55120641e+00,   1.73578881e+00,\n",
       "          1.32643394e+00,  -8.69723218e-02,  -1.46869754e-01,\n",
       "         -1.03518042e+00,  -6.10372538e-01,  -6.15073842e-01,\n",
       "          3.62522260e-01,  -1.31468014e-01,  -2.20648317e-01,\n",
       "          1.01649386e-01,   2.00252695e-02,   1.35044992e-01,\n",
       "         -7.65064674e-03,  -1.74727671e-02,  -3.96488756e-03,\n",
       "          2.43047846e-03,   1.33226763e-15],\n",
       "       [ -2.59530756e+00,  -1.73651137e-01,  -1.39627979e+00,\n",
       "          1.50475045e+00,   8.30355634e-01,   1.50280466e-01,\n",
       "         -4.21596356e-01,   8.71111686e-01,   1.71883453e-01,\n",
       "          1.15715651e+00,  -9.42550258e-02,   5.84632879e-01,\n",
       "          8.32075729e-01,  -1.40618487e-01,  -3.46054966e-01,\n",
       "          2.59388925e-01,  -8.42777304e-02,   1.65928240e-01,\n",
       "         -2.26124292e-03,  -2.95287001e-03,  -7.76504677e-03,\n",
       "          1.60787690e-02,   8.32667268e-17],\n",
       "       [  3.05651139e+00,  -1.16014824e+00,  -2.05359751e+00,\n",
       "          4.63591120e-01,   2.15130495e-02,  -3.05108305e-01,\n",
       "         -6.34768896e-01,   3.99777536e-01,   4.90454354e-02,\n",
       "         -1.00517673e+00,   1.27626774e+00,  -2.40105235e-01,\n",
       "          1.89303953e-01,   1.53132875e-01,  -5.73525493e-01,\n",
       "         -1.58131092e-01,  -1.07614129e-01,  -2.94320446e-01,\n",
       "         -2.99713904e-03,   2.07927755e-02,   1.72159568e-02,\n",
       "          5.58919782e-03,   1.52655666e-16],\n",
       "       [  4.57770839e+00,  -1.73801997e+00,  -1.39969227e+00,\n",
       "         -1.58390468e-01,  -2.88661623e-01,   1.12791526e-01,\n",
       "         -4.19502123e-01,   9.64344944e-01,   3.77087218e-02,\n",
       "         -1.70009955e-01,   1.69442648e-01,  -3.97046184e-01,\n",
       "         -2.19317103e-02,  -1.29649328e-01,   5.74604215e-01,\n",
       "          6.18011218e-01,  -2.85489218e-01,   5.88467562e-02,\n",
       "         -2.79179239e-02,  -1.05171149e-02,  -5.60317630e-03,\n",
       "         -1.98676071e-02,  -4.44089210e-16],\n",
       "       [ -3.88701887e+00,   3.38988359e-01,   7.63530792e-01,\n",
       "         -1.84810655e+00,   6.47953367e-01,   3.09588187e-01,\n",
       "         -9.86145424e-01,   8.36381982e-01,   1.14625862e+00,\n",
       "         -5.80351451e-01,   4.19121962e-01,   6.26935699e-01,\n",
       "         -4.37507029e-02,  -2.57399190e-01,   4.22855237e-01,\n",
       "         -3.36818073e-01,  -1.78702965e-01,  -8.12186226e-02,\n",
       "          2.86526707e-02,  -3.68282766e-02,  -2.99586898e-02,\n",
       "          1.39965443e-02,   4.16333634e-17],\n",
       "       [ -2.87073887e+00,   6.06060576e-01,  -1.96750019e+00,\n",
       "          1.34980751e+00,   3.43335173e-01,  -7.23097111e-01,\n",
       "          1.08444903e-01,  -3.80676166e-01,  -3.85438906e-01,\n",
       "         -6.82615548e-01,   5.24002946e-01,   3.08593241e-01,\n",
       "         -5.93691904e-01,   4.07862690e-01,   1.23262312e-01,\n",
       "          8.98615984e-02,   1.12680279e-01,   4.65436757e-01,\n",
       "          1.67987377e-02,  -4.74015684e-02,   1.86937426e-02,\n",
       "          1.43322266e-02,   3.33066907e-16],\n",
       "       [ -1.23088115e+00,  -1.58596443e+00,   1.15094452e+00,\n",
       "          2.08386259e+00,  -1.87971035e+00,   2.47746775e+00,\n",
       "          2.49563720e+00,   8.23059282e-02,   8.32334275e-01,\n",
       "          4.21503284e-02,   4.92970212e-01,   3.08913511e-02,\n",
       "         -2.14164938e-02,  -5.20948141e-02,   9.55332444e-02,\n",
       "         -9.82869389e-02,   8.51408523e-03,  -1.34726037e-03,\n",
       "          2.85885234e-03,   5.70172421e-03,   4.44654253e-03,\n",
       "         -1.47856274e-03,   1.73472348e-16],\n",
       "       [ -1.76381607e+00,  -1.08885007e+00,   8.03231236e-01,\n",
       "         -1.79147412e-01,   8.06934441e-01,  -8.73011376e-03,\n",
       "         -9.56227996e-01,  -1.49254118e+00,   4.42366046e-01,\n",
       "          1.17599595e-01,   7.85106469e-01,  -1.64471213e-01,\n",
       "          5.18596261e-01,  -4.59925400e-02,   2.57097025e-01,\n",
       "          1.48999555e-01,   5.23274111e-01,  -7.12841705e-02,\n",
       "         -2.11179419e-02,  -2.52184273e-02,   1.70677867e-04,\n",
       "         -2.10081812e-02,   3.74700271e-16],\n",
       "       [ -1.97571359e+00,   3.04360965e-01,  -1.26239022e+00,\n",
       "          1.42647370e+00,   1.69166835e+00,   7.46186579e-01,\n",
       "         -5.70083862e-01,   1.54919856e+00,   1.42140863e-01,\n",
       "          7.57543390e-01,  -5.21066979e-01,  -4.82761231e-01,\n",
       "         -5.60391741e-01,   3.06426117e-01,   6.46810358e-02,\n",
       "         -2.44942968e-01,   2.03633672e-01,  -2.29958641e-01,\n",
       "         -1.55633069e-02,  -1.30051147e-02,  -6.32201317e-03,\n",
       "         -1.38780994e-02,   4.44089210e-16],\n",
       "       [  8.65149858e-02,  -1.64910358e+00,   3.63634560e-01,\n",
       "         -4.27391707e-02,   2.14405863e-01,  -2.18393703e-01,\n",
       "         -8.12016454e-01,  -1.38268374e+00,   2.06652246e+00,\n",
       "          8.81067234e-02,  -6.86675908e-01,  -1.64526430e-01,\n",
       "         -5.71243668e-01,  -1.81680823e-01,  -3.98197778e-01,\n",
       "          2.02046562e-01,  -1.20384027e-01,   3.78227056e-02,\n",
       "         -4.02050214e-02,   1.62132759e-02,   7.49558140e-03,\n",
       "          1.06838263e-02,  -2.08166817e-17],\n",
       "       [  4.90180683e+00,   5.09074212e+00,   1.93373597e+00,\n",
       "          2.52009267e+00,  -8.93565436e-01,  -1.46905132e+00,\n",
       "         -5.07102653e-01,   2.80781710e-01,   7.60001031e-01,\n",
       "         -5.30694256e-01,  -4.58040052e-01,  -1.15478912e-01,\n",
       "          3.41811146e-01,   4.75974075e-02,   1.38890307e-01,\n",
       "         -1.24413168e-01,   3.40446852e-02,   2.52842456e-02,\n",
       "         -1.28429795e-03,  -7.63014420e-03,  -6.30152627e-03,\n",
       "         -9.36183058e-04,  -6.93889390e-16],\n",
       "       [  3.61961759e+00,  -2.55396775e+00,  -1.06921230e+00,\n",
       "         -5.44102137e-01,  -1.00221324e+00,   1.58418739e-01,\n",
       "         -9.60432816e-02,  -1.71761410e-01,  -3.20298720e-01,\n",
       "         -3.60594343e-01,  -9.14420059e-01,   6.26203727e-01,\n",
       "          8.00149674e-02,   3.36553485e-02,  -2.84430438e-01,\n",
       "         -2.27152869e-01,   5.52867121e-02,   4.73943554e-02,\n",
       "          2.35094297e-02,  -9.25534854e-02,  -1.40909059e-02,\n",
       "         -3.98335690e-02,  -4.44089210e-16],\n",
       "       [  3.50307420e+00,   3.88840699e+00,  -9.09717761e-01,\n",
       "         -1.06044891e+00,   3.56167608e-01,   7.56211897e-01,\n",
       "          7.05154813e-01,  -9.69138960e-01,  -1.15423854e-01,\n",
       "          5.14169972e-01,   1.21329291e-01,   8.78110806e-01,\n",
       "         -2.19156013e-01,   4.42212081e-01,   9.71328877e-02,\n",
       "          2.29365894e-01,  -5.52628110e-02,  -3.03226048e-01,\n",
       "         -2.37879257e-02,   3.72577941e-02,   7.87285134e-03,\n",
       "         -3.50211248e-03,   0.00000000e+00],\n",
       "       [  3.36576006e-01,  -3.09224854e-01,   2.26716260e-01,\n",
       "         -2.29458316e-01,  -1.32621315e-02,   2.31210895e-01,\n",
       "         -5.29331321e-01,  -3.14083949e-01,  -3.00359301e-02,\n",
       "          2.03658700e-01,  -1.56907551e-01,  -2.20361808e-01,\n",
       "         -7.24057804e-03,   9.90202978e-02,   1.68095647e-02,\n",
       "          7.86659011e-02,  -8.29990816e-03,   3.09220302e-02,\n",
       "          2.23335318e-01,   7.47703202e-02,   1.99826795e-03,\n",
       "         -4.78690623e-03,  -1.38777878e-16],\n",
       "       [ -3.74580246e+00,   2.77694129e-01,  -1.52019733e+00,\n",
       "          7.68724023e-01,  -2.93960850e-01,  -1.08554290e+00,\n",
       "          4.99433151e-01,  -5.55626522e-01,  -7.27155763e-01,\n",
       "         -2.56133554e-01,  -5.92316364e-03,   8.19723103e-02,\n",
       "         -1.71785120e-01,  -4.55375906e-01,   8.72286150e-03,\n",
       "         -1.18629054e-01,  -1.11377348e-02,   1.46003503e-02,\n",
       "         -4.14153210e-02,   1.14436782e-01,  -6.98495598e-02,\n",
       "         -1.87438546e-02,   6.66133815e-16]])"
      ]
     },
     "execution_count": 44,
     "metadata": {},
     "output_type": "execute_result"
    }
   ],
   "source": [
    "mat6"
   ]
  },
  {
   "cell_type": "code",
   "execution_count": 30,
   "metadata": {},
   "outputs": [
    {
     "data": {
      "image/png": "[encoded data removed]",
      "text/plain": [
       "<matplotlib.figure.Figure at 0x7f71c1188050>"
      ]
     },
     "metadata": {},
     "output_type": "display_data"
    },
    {
     "data": {
      "image/png": "[encoded data removed]",
      "text/plain": [
       "<matplotlib.figure.Figure at 0x7f71c1188990>"
      ]
     },
     "metadata": {},
     "output_type": "display_data"
    },
    {
     "data": {
      "image/png": "[encoded data removed]",
      "text/plain": [
       "<matplotlib.figure.Figure at 0x7f71b4452790>"
      ]
     },
     "metadata": {},
     "output_type": "display_data"
    },
    {
     "data": {
      "image/png": "[encoded data removed]",
      "text/plain": [
       "<matplotlib.figure.Figure at 0x7f71b44ac390>"
      ]
     },
     "metadata": {},
     "output_type": "display_data"
    },
    {
     "data": {
      "image/png": "[encoded data removed]",
      "text/plain": [
       "<matplotlib.figure.Figure at 0x7f71bef517d0>"
      ]
     },
     "metadata": {},
     "output_type": "display_data"
    }
   ],
   "source": [
    "%matplotlib inline\n",
    "plt.matshow(mat6)\n",
    "plt.matshow(mat0)\n",
    "plt.matshow(mat1)\n",
    "plt.matshow(mat2)\n",
    "plt.matshow(mat4)\n",
    "\n",
    "\n",
    "\n",
    "mdcts = [\n",
    "    matlist.blosum62,\n",
    "]\n",
    "mdcts  = [\n",
    "    dmat2mdct( dmat,alist ) for dmat in \n",
    "    [mat1,mat2,mat3,mat4,mat5]\n",
    "]\n",
    "# mdcts.append()\n",
    "# mats = \n",
    "# plt.matshow(mat3)\n",
    "# plt.matshow(mat4)"
   ]
  },
  {
   "cell_type": "code",
   "execution_count": 63,
   "metadata": {
    "collapsed": true
   },
   "outputs": [],
   "source": []
  },
  {
   "cell_type": "code",
   "execution_count": 14,
   "metadata": {},
   "outputs": [
    {
     "name": "stdout",
     "output_type": "stream",
     "text": [
      "{'A': 0, 'C': 1, 'B': 2, 'E': 3, 'D': 4, 'G': 5, 'F': 6, 'I': 7, 'H': 8, 'K': 9, 'M': 10, 'L': 11, 'N': 12, 'Q': 13, 'P': 14, 'S': 15, 'R': 16, 'T': 17, 'W': 18, 'V': 19, 'Y': 20, 'X': 21, 'Z': 22}\n"
     ]
    },
    {
     "data": {
      "text/plain": [
       "False"
      ]
     },
     "execution_count": 14,
     "metadata": {},
     "output_type": "execute_result"
    }
   ],
   "source": [
    "mdct = matlist.blosum62\n",
    "dmat,adict = mdct2for mdct in mdcts:\n",
    "dmat(mdct )\n",
    "STD = dmat.std()\n",
    "MIN = dmat.min()\n",
    "MIN + STD\n",
    "\n",
    "\n",
    "plt.matshow(dmat)\n",
    "# dmat = (dmat + dmat.T - dg)/2.\n",
    "print adict\n",
    "plt.matshow(dmat)\n",
    "dmat[21:].mean()\n",
    "'Y' is 'W'\n",
    "'Z' is 'E'\n",
    "# dmat.mean()"
   ]
  },
  {
   "cell_type": "code",
   "execution_count": 82,
   "metadata": {
    "collapsed": true
   },
   "outputs": [],
   "source": [
    "del xss[-1]\n",
    "del yss[-1]"
   ]
  },
  {
   "cell_type": "code",
   "execution_count": null,
   "metadata": {
    "collapsed": true
   },
   "outputs": [],
   "source": [
    "from Bio.SubsMat import MatrixInfo as matlist\n",
    "mdct = matlist.blosum62\n"
   ]
  },
  {
   "cell_type": "code",
   "execution_count": 229,
   "metadata": {
    "collapsed": true
   },
   "outputs": [],
   "source": []
  },
  {
   "cell_type": "code",
   "execution_count": 14,
   "metadata": {
    "collapsed": true
   },
   "outputs": [],
   "source": [
    "# l = 400\n",
    "# l = 50\n",
    "l = 1200\n",
    "\n",
    "_ = np.random.seed(0)\n",
    "idx = np.random.randint(0,len(data),l )\n",
    "idxD = list2dict(idx)\n",
    "pen = 0 \n",
    "L = l * (l-1)/2\n",
    "_ = np.random.seed(0)\n",
    "tdata = [data[i] for i in idx]\n",
    "it = itertools.combinations( tdata,2 )\n",
    "# it = itertools.combinations( data[:l],2 )\n",
    "def f2(obj):\n",
    "    x,y = obj\n",
    "    v = x[2] == y[2]\n",
    "    return ((idxD[x[0]],idxD[y[0]]), v)\n",
    "import multiprocessing as mp\n",
    "pool = mp.Pool(12)\n",
    "# res = pool.apply_async(f, it)      # runs in *only* one process\n",
    "# print res.get(timeout=1)              # prints \"400\"\n",
    "res = pool.map(f2, it)\n",
    "pool.close()\n",
    "pool.join()\n",
    "OUTPUT = scipy.sparse.dok_matrix( ( l, l), )\n",
    "# OUTPUT.update( res )\n",
    "OUTPUT.update({x:y for x,y in res})\n",
    "tm = OUTPUT"
   ]
  },
  {
   "cell_type": "code",
   "execution_count": 87,
   "metadata": {
    "collapsed": true
   },
   "outputs": [],
   "source": [
    "%load_ext line_profiler\n",
    "np.random.seed(0)\n"
   ]
  },
  {
   "cell_type": "code",
   "execution_count": 109,
   "metadata": {},
   "outputs": [
    {
     "name": "stdout",
     "output_type": "stream",
     "text": [
      "[ 6921  6036  2163 ..., 10971  5570 14819]\n"
     ]
    }
   ],
   "source": [
    "idx = np.random.randint(0,len(data),l )\n",
    "print idx"
   ]
  },
  {
   "cell_type": "code",
   "execution_count": null,
   "metadata": {
    "collapsed": true
   },
   "outputs": [],
   "source": [
    "idx = np.random.randint(0, len(data),l )\n",
    "idx.dtype\n",
    "# data[idx]\n",
    "# len()data\n",
    "[data[i] for i in idx]"
   ]
  },
  {
   "cell_type": "code",
   "execution_count": 146,
   "metadata": {},
   "outputs": [
    {
     "data": {
      "text/plain": [
       "<module 'Bio' from '/home/shouldsee/.local/lib/python2.7/site-packages/Bio/__init__.pyc'>"
      ]
     },
     "execution_count": 146,
     "metadata": {},
     "output_type": "execute_result"
    }
   ],
   "source": [
    "import sys\n",
    "reload(Bio)"
   ]
  },
  {
   "cell_type": "code",
   "execution_count": 17,
   "metadata": {},
   "outputs": [
    {
     "name": "stdout",
     "output_type": "stream",
     "text": [
      "CPU times: user 60 ms, sys: 72 ms, total: 132 ms\n",
      "Wall time: 3.47 s\n"
     ]
    }
   ],
   "source": [
    "# %%time \n",
    "import Bio\n",
    "import Bio.pairwise2\n",
    "\n",
    "def f(obj, ):\n",
    "    (x,y),args,idxD = obj\n",
    "#     args = [args[0]]\n",
    "    a = Bio.pairwise2.align.globalds(\n",
    "#     a = Bio.pairwise2.align.localds(        \n",
    "#     a = Bio.pairwise2.align.globaldx(\n",
    "                x[-1], y[-1], \n",
    "                                one_alignment_only = 1,\n",
    "                                     *args\n",
    "                                    )\n",
    "    v = float(a[0][2]) / (a[0][-1] -  a[0][-2] + 1)\n",
    "#     v = a[0][2]\n",
    "    return (idxD[x[0]],idxD[y[0]]),v\n",
    "\n",
    "def test(l):\n",
    "    _ = np.random.seed(0)\n",
    "    idx = np.random.randint(0,len(data),l )\n",
    "    idxD = list2dict(idx)\n",
    "    pen = 0 \n",
    "    L = l * (l-1)/2\n",
    "    tdata = [data[i] for i in idx]\n",
    "    it = itertools.combinations( tdata,2 )\n",
    "    it = itertools.izip(it,\n",
    "        [[mdct,pen,pen],] * L,\n",
    "                       [idxD]*L)\n",
    "#     res = []\n",
    "#     for i in it:\n",
    "#         res.append( f(i) )\n",
    "                      \n",
    "    import multiprocessing as mp\n",
    "    pool = mp.Pool(12)\n",
    "    # res = pool.apply_async(f, it)      # runs in *only* one process\n",
    "    # print res.get(timeout=1)              # prints \"400\"\n",
    "    res = pool.map(f, it, )\n",
    "    pool.close()\n",
    "    OUTPUT = scipy.sparse.dok_matrix( ( l, l), )\n",
    "    # OUTPUT.update( res )\n",
    "    OUTPUT.update( {x:y for x,y in res})\n",
    "    om = OUTPUT  \n",
    "    return om\n",
    "\n",
    "# %lprun -f f \n",
    "%time om = test(50)\n",
    "# %lprun -f pairwise2._align test(100)\n",
    "# import Bio\n",
    "# %lprun -f Bio.cpairwise2._make_score_matrix_fast test(10)\n",
    "# %lprun -f Bio.pairwise2._make_score_matrix_fast test(10)\n",
    "# %lprun -f Bio.pairwise2._make_score_matrix_generic test(10)\n",
    "# %lprun -f Bio.pairwise2._align test(10)\n",
    "# %lprun -f test test(100)\n",
    "# %lprun -f pool.map_async test(100)"
   ]
  },
  {
   "cell_type": "code",
   "execution_count": 34,
   "metadata": {},
   "outputs": [
    {
     "data": {
      "text/plain": [
       "[((5, 31), 0.5374522056255212),\n",
       " ((27, 46), 0.6311323607122103),\n",
       " ((21, 28), 0.5854278924225736),\n",
       " ((4, 36), 0.6418174349476797),\n",
       " ((17, 20), 0.6588502139540938),\n",
       " ((7, 25), 0.5929761690957431),\n",
       " ((29, 44), 0.5814303625333572),\n",
       " ((33, 41), 0.5590781781390732),\n",
       " ((16, 47), 0.6755045026262563),\n",
       " ((12, 42), 0.6641884494462952),\n",
       " ((13, 32), 0.3748919523188812),\n",
       " ((18, 45), 0.6332597892102955),\n",
       " ((38, 40), 0.601345267506467),\n",
       " ((15, 30), 0.5122363352653009),\n",
       " ((11, 22), 0.6823319127710794),\n",
       " ((8, 26), 0.5494759896987504),\n",
       " ((1, 28), 0.6914627267731112),\n",
       " ((13, 20), 0.6013777187727495),\n",
       " ((30, 41), 0.6458394416462502),\n",
       " ((25, 49), 0.6541430863195539)]"
      ]
     },
     "execution_count": 34,
     "metadata": {},
     "output_type": "execute_result"
    }
   ],
   "source": [
    "# 1000**2 / 250**2\n",
    "om.items()[:20]"
   ]
  },
  {
   "cell_type": "code",
   "execution_count": 42,
   "metadata": {},
   "outputs": [
    {
     "name": "stdout",
     "output_type": "stream",
     "text": [
      "finished\n",
      "finished\n",
      "finished\n",
      "finished\n",
      "CPU times: user 41.6 s, sys: 8.63 s, total: 50.2 s\n",
      "Wall time: 1h 38min 38s\n"
     ]
    }
   ],
   "source": [
    "%%time\n",
    "oms = []\n",
    "l = 1200\n",
    "for mdct in mdcts:\n",
    "    om = test( l ) \n",
    "    oms.append( om )\n",
    "    print 'finished'"
   ]
  },
  {
   "cell_type": "code",
   "execution_count": 20,
   "metadata": {
    "collapsed": true
   },
   "outputs": [],
   "source": [
    "ts,oms = pk_load('1200seq')"
   ]
  },
  {
   "cell_type": "code",
   "execution_count": null,
   "metadata": {
    "collapsed": true
   },
   "outputs": [],
   "source": []
  },
  {
   "cell_type": "code",
   "execution_count": 25,
   "metadata": {},
   "outputs": [
    {
     "name": "stdout",
     "output_type": "stream",
     "text": [
      "finished\n",
      "CPU times: user 10.3 s, sys: 1.65 s, total: 12 s\n",
      "Wall time: 23min 57s\n"
     ]
    }
   ],
   "source": [
    "%%time\n",
    "# oms = []\n",
    "l = 1200\n",
    "# for mdct in mdcts:\n",
    "if 1:\n",
    "    mdct = mdcts[-1]\n",
    "    om = test( l ) \n",
    "    oms.append( om )\n",
    "    print 'finished'"
   ]
  },
  {
   "cell_type": "code",
   "execution_count": 79,
   "metadata": {
    "scrolled": true
   },
   "outputs": [
    {
     "name": "stdout",
     "output_type": "stream",
     "text": [
      "CPU times: user 340 ms, sys: 156 ms, total: 496 ms\n",
      "Wall time: 55.9 s\n"
     ]
    }
   ],
   "source": [
    "%%time\n",
    "from Bio import pairwise2\n",
    "# d1 = {}\n",
    "# pairwise2.align.globalds(x[-1], y[-1], mdct, -1, -1 )\n",
    "\n",
    "l = 250\n",
    "# pen = MIN \n",
    "pen = 0 \n",
    "L = l * (l-1)/2\n",
    "\n",
    "it = itertools.combinations( data[:l],2 )\n",
    "i = 0\n",
    "c = counter(it, per = 50)\n",
    "it = itertools.combinations( data[:l],2 )\n",
    "it = itertools.izip(it,\n",
    "                    [[mdct,pen,pen]] * L, )\n",
    "\n",
    "def f(obj, ):\n",
    "    (x,y),args = obj\n",
    "    a = pairwise2.align.globalds(x[-1], y[-1], \n",
    "                                one_alignment_only = 1, *args)\n",
    "    v = float(a[0][2]) / (a[0][-1] -  a[0][-2] + 1)\n",
    "#     v = a[0][2]\n",
    "    return (x[0],y[0]),v\n",
    "\n",
    "# for x,y in it:\n",
    "#     i += 1\n",
    "#     v = pairwise2.align.globalds(x[-1], y[-1], mdct, -1, -1 )\n",
    "#     d1[(x[0],y[0])] = v \n",
    "#     c.count()\n",
    "\n",
    "\n",
    "import multiprocessing as mp\n",
    "pool = mp.Pool(12)\n",
    "# res = pool.apply_async(f, it)      # runs in *only* one process\n",
    "# print res.get(timeout=1)              # prints \"400\"\n",
    "res = pool.map(f, it, )\n",
    "pool.close()\n",
    "#     print \n",
    "#     print x[0]\n",
    "#     print y[0]\n",
    "#     break\n",
    "OUTPUT = scipy.sparse.dok_matrix( ( l, l), )\n",
    "# OUTPUT.update( res )\n",
    "OUTPUT.update({x:y for x,y in res})\n",
    "om = OUTPUT    \n",
    "# len(data)"
   ]
  },
  {
   "cell_type": "code",
   "execution_count": 181,
   "metadata": {
    "collapsed": true
   },
   "outputs": [],
   "source": [
    "m = tm.copy()\n",
    "tm = om.copy()\n",
    "om = m.copy()"
   ]
  },
  {
   "cell_type": "code",
   "execution_count": 190,
   "metadata": {},
   "outputs": [
    {
     "data": {
      "text/plain": [
       "[((19171, 13592), False),\n",
       " ((11052, 13173), False),\n",
       " ((19608, 16979), False),\n",
       " ((9845, 20701), False),\n",
       " ((732, 12232), False),\n",
       " ((10327, 18068), False),\n",
       " ((10959, 5661), False),\n",
       " ((8717, 6004), False),\n",
       " ((3091, 15912), False),\n",
       " ((15115, 894), False)]"
      ]
     },
     "execution_count": 190,
     "metadata": {},
     "output_type": "execute_result"
    }
   ],
   "source": [
    "tm.items()[:10]"
   ]
  },
  {
   "cell_type": "code",
   "execution_count": 134,
   "metadata": {},
   "outputs": [
    {
     "data": {
      "text/plain": [
       "380"
      ]
     },
     "execution_count": 134,
     "metadata": {},
     "output_type": "execute_result"
    }
   ],
   "source": [
    "from Bio import pairwise2, SubsMat\n",
    "# alignments = pairwise2.align.globalxx(\"ACCGT\", \"ACG\")\n",
    "# alignments\n",
    "from Bio.SubsMat import MatrixInfo as matlist\n",
    "mdct = matlist.blosum62\n",
    "\n",
    "# mdct = SubsMat.Matrixinfo.blosum62\n",
    "a = pairwise2.align.globalds(x[-1], y[-1], mdct, -1, -1 ) \n",
    "# a = pairwise2.align.globaldx([x[-1],x[-1]], [y[-1]], mdct, -1, -1 ) \n",
    "# ?a\n",
    "# ?pairwise2.align.globalds\n",
    "# a[2]\n",
    "# a[0][2]\n",
    "\n",
    "# a[0][2] / (a[0][-1] -  a[0][-2] + 1)\n",
    "\n",
    "# a\n",
    "# ?pairwise2.align.globalds"
   ]
  },
  {
   "cell_type": "code",
   "execution_count": 47,
   "metadata": {
    "collapsed": true
   },
   "outputs": [],
   "source": [
    "import django_CATH.models \n",
    "\n",
    "ll =  list( django_CATH.models.domain.objects.values_list('domain_id','hier__Class','hier__arch', 'hier__topo', 'hier__homsf'))\n",
    "dids = []\n",
    "sfs = []\n",
    "for i,c,a,t,h in ll:\n",
    "    dids.append(i)\n",
    "    sfs.append( (c,a,t,h) )\n",
    "hh_sfs = list2dict(set(sfs))\n",
    "sfs = [hh_sfs[x] for x in sfs]\n",
    "did2node = dict(zip(dids,sfs))\n",
    "\n",
    "def compare( om, tm = None, thres = 0.5):\n",
    "    tm = tm.tocsr()\n",
    "    om = om.tocsr()\n",
    "    tp = ((om + tm)  == 2).sum()\n",
    "    fp = ((om - tm)  == 1).sum()\n",
    "    return tp,fp,\n",
    "# def GETcath_node(acc, domain_model = domain_model):\n",
    "#     try:\n",
    "#         # d = domain.objects.get(self.acc)\n",
    "#         d = domain_model.objects.get( domain_id = acc)\n",
    "#         node = d.superfamily()\n",
    "#     except:\n",
    "#         node = None\n",
    "#     return node"
   ]
  },
  {
   "cell_type": "code",
   "execution_count": 6,
   "metadata": {
    "collapsed": true
   },
   "outputs": [],
   "source": [
    "def compare( om, tm = None, thres = 0.5):\n",
    "\n",
    "    tm = tm.tocsr()\n",
    "    om = om.tocsr()\n",
    "\n",
    "    tp = ((om + tm)  == 2).sum()\n",
    "    fp = ((om - tm)  == 1).sum()\n",
    "\n",
    "    return tp,fp,\n",
    "# tn,fn\n",
    "# # compare( OUTPUT > .5, sfbools )\n",
    "# dc = wrap_mat(OUTPUT,sfbools)\n",
    "\n",
    "# xs = []\n",
    "# ys = []\n",
    "# for thres in np.linspace(0,1.,50):\n",
    "#     tp,fp = compare( tm > thres, om  )\n",
    "#     xs.append( tp )\n",
    "#     ys.append( fp )\n",
    "\n",
    "# print \"Done\""
   ]
  },
  {
   "cell_type": "code",
   "execution_count": 67,
   "metadata": {},
   "outputs": [
    {
     "name": "stdout",
     "output_type": "stream",
     "text": [
      "CPU times: user 128 ms, sys: 0 ns, total: 128 ms\n",
      "Wall time: 439 ms\n"
     ]
    }
   ],
   "source": [
    "%%time\n",
    "reset_database_connection()\n",
    "##########################################################\n",
    "##########################################################\n",
    "#### Thresholding the hit4hmm2hspPR ######################\n",
    "#### and cache stats into hit4cath2cath ##################\n",
    "#### Model: hit4hmm2hspPR --> hit4cath2cath ##############\n",
    "##########################################################\n",
    "# self = matObj\n",
    "matObj = ctmat(\n",
    "    Cver = Cver,\n",
    "    sDB=sDB,\n",
    "    alias = '%s_%s' %(Cver,sDB.name),\n",
    "    letter = 'S',\n",
    ")\n",
    "\n",
    "\n",
    "# qset = matObj.filter_and_mask()\n",
    "\n",
    "# filter_and_mask(matObj)\n",
    "# Draw_hitPR(matObj,dump = 1)\n",
    "\n",
    "# matObj.hit_sum(dump = 1)      #### summing hit-seq count for each hmmprofile\n",
    "# matObj.MySQL_hcount() #### put hit-seq count to MySQL database\n",
    "# # matObj.force = 1\n",
    "# matObj.Dnorm( dump = 1)\n",
    "# matObj.Dgeoavg( dump = 1)\n",
    "# matObj.Dboth(dump = 1)\n",
    "# matObj.to_MySQL()\n",
    "# print matObj.reverse_dict"
   ]
  }
 ],
 "metadata": {
  "kernelspec": {
   "display_name": "Python 2",
   "language": "python",
   "name": "python2"
  },
  "language_info": {
   "codemirror_mode": {
    "name": "ipython",
    "version": 2
   },
   "file_extension": ".py",
   "mimetype": "text/x-python",
   "name": "python",
   "nbconvert_exporter": "python",
   "pygments_lexer": "ipython2",
   "version": "2.7.12"
  }
 },
 "nbformat": 4,
 "nbformat_minor": 2
}
