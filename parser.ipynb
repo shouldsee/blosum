{
 "cells": [
  {
   "cell_type": "code",
   "execution_count": null,
   "metadata": {
    "collapsed": true
   },
   "outputs": [],
   "source": [
    "###########################################\n",
    "##  Carry out alignment between fasta #####\n",
    "###########################################\n",
    "cmd = 'fasta36 %s %s -T%d -m10  -f0 -g0' % (fname,\n",
    "                                               fname,\n",
    "                                              num_T)\n",
    "num_T = 8\n",
    "template = \"fasta36 %s %s -m10 -d0 -T4 -n > out\"\n",
    "fastaLib1 = \n",
    "cmd = tempalte % (fastaLib1,\n",
    "                  fastaLib2,\n",
    "                  num_T,\n",
    "                    )\n",
    "\n",
    "\"fasta36 Escherichia_coli_str_k_12_substr_mds42.GCA_000350185.1.23.cdna.all.names.fa Buchnera_aphidicola_bcc.ASM9096v1.cdna.all.fa  -m10 -d0 -T4 -n > out &\"\n",
    "\"ggsearch36 Escherichia_coli_str_k_12_substr_mds42.GCA_000350185.1.23.cdna.all.names.fa Buchnera_aphidicola_bcc.ASM9096v1.cdna.all.fa -m10 -T7 -n > ggsearch_aln.m10\"\n",
    "\"fasta36 Escherichia_coli_str_k_12_substr_mds42.GCA_000350185.1.23.cdna.all.names.fa Buchnera_aphidicola_bcc.ASM9096v1.cdna.all.fa -m10 -T7 -n > fasta36_aln.m10\"\n",
    "\"fasta36 Buchnera_aphidicola_bcc.ASM9096v1.cdna.all.fa Escherichia_coli_str_k_12_substr_mds42.GCA_000350185.1.23.cdna.all.names.fa -m10 -T7 -n > fasta36_aln_BAphid.m10\"\n",
    "\n",
    "fout = \"test.m10\""
   ]
  },
  {
   "cell_type": "code",
   "execution_count": null,
   "metadata": {
    "collapsed": true
   },
   "outputs": [],
   "source": [
    "import Bio.SeqIO\n",
    "it = Bio.SeqIO.parse( fname,'fasta' )\n",
    "hash2did = {}\n",
    "# i = 0\n",
    "for i,ent in enumerate(it):\n",
    "    h = hash(ent.name) \n",
    "    hash2did[ h ] = (i,ent.name)\n",
    "\n",
    "class fastaLib(object):\n",
    "    def __init__(self,tmpdir = 'DATA'):\n",
    "        self._make_name_dict()\n",
    "    def _make_name_dict(self,):\n",
    "        pass\n",
    "        \n",
    "#############################################\n",
    "### compile name_dict for each fasta file ###\n",
    "#############################################\n"
   ]
  },
  {
   "cell_type": "code",
   "execution_count": 1,
   "metadata": {
    "collapsed": true
   },
   "outputs": [],
   "source": [
    "from tempfile import TemporaryFile , mkdtemp\n",
    "\n",
    "def file_len(fname):\n",
    "    with open(fname) as f:\n",
    "        for i, l in enumerate(f):\n",
    "            pass\n",
    "    return i + 1\n",
    "\n",
    "def split_file(fname, number = None, linecount = None, delimiter = '\\n',header = '\\n',footer = '\\n'):\n",
    "    if linecount and number:\n",
    "        raise Exception('You can only specify one of linecount or number')\n",
    "    f_handles = []\n",
    "    tempdir = mkdtemp(prefix = '/tmp/feng')\n",
    "    \n",
    "#     lcount = file_len(fname)\n",
    "    with open(fname,'r') as f:\n",
    "#         lines = f.readlines()\n",
    "        lines = f.read().lstrip(header).rstrip(footer).split(delimiter)\n",
    "        lcount = len(lines)\n",
    "    print tempdir\n",
    "    print lcount \n",
    "#     return\n",
    "    \n",
    "    if number:\n",
    "#         with open(fname) as f:\n",
    "#             lines = f.readlines()\n",
    "        lcount = len(lines)\n",
    "        nlcount = lcount // number + 1\n",
    "        idxs = range(0, lcount, nlcount)\n",
    "        for i,idx in enumerate(idxs):\n",
    "            print i\n",
    "#             if i >= 11:\n",
    "#                 break\n",
    "\n",
    "#             f = TemporaryFile()\n",
    "            temp_fname = tempdir + '/%d'%i\n",
    "            f = open(temp_fname, 'w+')\n",
    "            f.write( header)\n",
    "            f.write( delimiter.join(lines[idx: idx+nlcount]))\n",
    "            f.write( footer)\n",
    "#             f.close()\n",
    "#             f = open(temp_fname,'r')\n",
    "#             f.seek(0)\n",
    "            f_handles.append(temp_fname)\n",
    "    if linecount:\n",
    "        idx = 0\n",
    "        i   = 0\n",
    "        nlcount = linecount\n",
    "        while 1:\n",
    "            temp_fname = tempdir + '/%d'%i\n",
    "            f = open(temp_fname, 'w' )\n",
    "            f.write( header)\n",
    "            f.write( delimiter.join(lines[idx:idx + nlcount]) )\n",
    "            f.write( footer)\n",
    "            f.seek(0)\n",
    "            f_handles.append(temp_fname)\n",
    "            if idx + nlcount+1 >= lcount: \n",
    "                break\n",
    "            else:\n",
    "                idx += nlcount\n",
    "                i   += 1\n",
    "    return f_handles"
   ]
  },
  {
   "cell_type": "code",
   "execution_count": null,
   "metadata": {
    "collapsed": true
   },
   "outputs": [],
   "source": [
    "###########################################\n",
    "## Parse the output and visulise E-value ##\n",
    "###########################################"
   ]
  },
  {
   "cell_type": "code",
   "execution_count": 3,
   "metadata": {},
   "outputs": [
    {
     "name": "stderr",
     "output_type": "stream",
     "text": [
      "/home/shouldsee/.local/lib/python2.7/site-packages/Bio/SearchIO/__init__.py:211: BiopythonExperimentalWarning: Bio.SearchIO is an experimental submodule which may undergo significant changes prior to its future official release.\n",
      "  BiopythonExperimentalWarning)\n"
     ]
    }
   ],
   "source": [
    "########################################################\n",
    "########################################################\n",
    "### Hack to parse FASTA-m10 into data,frame ###\n",
    "########################################################\n",
    "from domutil.util import *\n",
    "class fastaLib(object):\n",
    "    def __init__(self,fname,tmpdir = 'data'):\n",
    "        self._make_name_dict(fname)\n",
    "    def _make_name_dict(self,fname):\n",
    "        self.name_dict = hashfasta( fname )\n",
    "#         pk.dump(name_dict)\n",
    "\n",
    "def func(oname):\n",
    "#     it = Bio.SearchIO.parse( oname,'fasta-m10' )\n",
    "#     d = {}\n",
    "    it = Bio.SearchIO.parse( oname,'fasta-m10' )\n",
    "    l = []\n",
    "    i = 0\n",
    "#     print sum(1 for _ in it)\n",
    "    for ent in it:\n",
    "        hits = ent.__dict__['_items']\n",
    "#         qid = hash(ent.id)\n",
    "#         l += [(ent.id,ent)]\n",
    "#         continue\n",
    "        query_id = ent.id\n",
    "        for hit in hits.values():\n",
    "            v = hit[0]\n",
    "#             v.__dict__.update({\"query_id\":ent.id,\"hit_id\":hit.id})\n",
    "#             dct = {\"query_id\":ent,\"hit_id\":hit}\n",
    "#             v.__dict__.pop('_items')\n",
    "#             dct.update(v.__dict__)\n",
    "# #             dct.update({\"query_id\":ent.id,\"hit_id\":hit.id})\n",
    "# #             dct.pop('_items')\n",
    "#             l += [dct]\n",
    "            v.__dict__.update({\"query_id\":query_id,\n",
    "                              \"hit_id\":hit.id})\n",
    "            v.__dict__.pop('_items')\n",
    "            l += [v.__dict__]\n",
    "#             l += [((ent.id,hit_id),v)]\n",
    "#             jid = hash(hit.id)\n",
    "#             l += [((qid,jid),v)]\n",
    "#         i += 1\n",
    "#         print i\n",
    "#     print len(l)\n",
    "    return l\n",
    "\n",
    "\n",
    "def out2dmat( fname,  hash2did = None, para = 10, func = func,\n",
    "            qfile  = None,libfile = None,):\n",
    "    def findheader(fname):\n",
    "        with open(fname,'r') as f:            \n",
    "            header = ''\n",
    "            line = f.readline()\n",
    "            try:\n",
    "                while not line.startswith('Query'):\n",
    "                    header += line\n",
    "                    line = f.readline()            \n",
    "                header += line\n",
    "            except Exception as e:\n",
    "                raise Exception(\"Unable to grab the header from file :'%s'\"%fname + str(e) )\n",
    "            buf = f.read()\n",
    "            tmpf = 'parse.tmp'\n",
    "            with open( tmpf,'w') as of:\n",
    "                 of.write(buf)\n",
    "        return header, tmpf\n",
    "    if isinstance( fname,list):\n",
    "        f_handles = fname\n",
    "        tmpf = ''\n",
    "    else:\n",
    "#     if 1:\n",
    "        header,tmpf = findheader(fname)\n",
    "#         f_handles = split_file( fname, number = para,\n",
    "#                        delimiter = '>>><<<',\n",
    "#                        header = header,\n",
    "#                        footer = '\\n>>>///\\n',\n",
    "#                               start = 10,)\n",
    "        f_handles = split_file( tmpf, number = para,\n",
    "#                        delimiter = 'Query',\n",
    "                        delimiter = '>>><<<',\n",
    "#                        header = header,\n",
    "                               header  = header,\n",
    "                       footer = '\\n>>>///\\n',\n",
    "                              start = 0,)\n",
    "        print header\n",
    "\n",
    "    xs = []\n",
    "    ys = []\n",
    "    d  = {}\n",
    "    if para > 1:\n",
    "        pool = mp.Pool( para )\n",
    "        res = pool.map( func, f_handles)\n",
    "        lst = sum( res,[] )        \n",
    "        pool.close()\n",
    "#         pool.join()\n",
    "    else:\n",
    "        lst = []\n",
    "        i = 0\n",
    "        print 'handles:',f_handles\n",
    "        for oname in f_handles:        \n",
    "            print 'now parsing:',oname\n",
    "            print i\n",
    "            i += 1\n",
    "            lst += func(oname)\n",
    "#             d.update(dict(lst))\n",
    "#             it = Bio.SearchIO.parse( oname,'fasta-m10' )\n",
    "#             for ent in it:\n",
    "#             #     print ent\n",
    "#                 hits = ent.__dict__['_items']\n",
    "#                 qid = hash(ent.id)\n",
    "#                 for hit in hits.values():\n",
    "#                     v = hit[0].bitscore\n",
    "#                     jid = hash(hit.id)\n",
    "#                     d[ ( qid, jid) ] = v\n",
    "    return lst\n",
    "    d.update(dict(lst))\n",
    "    return d\n",
    "        \n",
    "    l = len(hash2did)\n",
    "    om = scipy.sparse.dok_matrix( (l,l) )\n",
    "    order_d = { (hash2did[k[0]][0],\n",
    "                hash2did[k[1]][0]):\n",
    "               v for k,v in d.iteritems()\n",
    "              }\n",
    "    om.update(order_d)\n",
    "    \n",
    "    if tmpf:\n",
    "        os.remove(tmpf)\n",
    "    for tmpf in f_handles:\n",
    "        os.remove(tmpf)\n",
    "    return om\n",
    "\n",
    "################### Debug playground ##########################\n",
    "oname = \"fasta36_aln_BAphid.m10\"\n",
    "it = Bio.SearchIO.parse( oname,'fasta-m10' )\n",
    "l = []\n",
    "for ent in it:\n",
    "    hits = ent.__dict__['_items']\n",
    "    qid = hash(ent.id)\n",
    "    for hit in hits.values():\n",
    "        jid = hash(hit.id)\n",
    "        v = hit[0]\n",
    "        l += [((qid,jid),v)]\n",
    "        raise(Exception(\"hi\"))"
   ]
  },
  {
   "cell_type": "code",
   "execution_count": 12,
   "metadata": {},
   "outputs": [
    {
     "name": "stdout",
     "output_type": "stream",
     "text": [
      "/tmp/fengaqq3K4\n",
      "366\n",
      "# fasta36 Buchnera_aphidicola_bcc.ASM9096v1.cdna.all.fa Escherichia_coli_str_k_12_substr_mds42.GCA_000350185.1.23.cdna.all.names.fa -m10 -T7 -n\n",
      "FASTA searches a protein or DNA sequence data bank\n",
      " version 36.3.8d Apr, 2016(preload9)\n",
      "Please cite:\n",
      " W.R. Pearson & D.J. Lipman PNAS (1988) 85:2444-2448\n",
      "\n",
      "Query: Buchnera_aphidicola_bcc.ASM9096v1.cdna.all.fa\n",
      "\n",
      "Data parsed\n",
      "Data Frame is Ready\n"
     ]
    },
    {
     "data": {
      "text/html": [
       "<div>\n",
       "<style>\n",
       "    .dataframe thead tr:only-child th {\n",
       "        text-align: right;\n",
       "    }\n",
       "\n",
       "    .dataframe thead th {\n",
       "        text-align: left;\n",
       "    }\n",
       "\n",
       "    .dataframe tbody tr th {\n",
       "        vertical-align: top;\n",
       "    }\n",
       "</style>\n",
       "<table border=\"1\" class=\"dataframe\">\n",
       "  <thead>\n",
       "    <tr style=\"text-align: right;\">\n",
       "      <th></th>\n",
       "      <th>bitscore</th>\n",
       "      <th>evalue</th>\n",
       "      <th>hit_id</th>\n",
       "      <th>ident_pct</th>\n",
       "      <th>init1_score</th>\n",
       "      <th>initn_score</th>\n",
       "      <th>opt_score</th>\n",
       "      <th>pos_pct</th>\n",
       "      <th>query_id</th>\n",
       "      <th>z_score</th>\n",
       "    </tr>\n",
       "  </thead>\n",
       "  <tbody>\n",
       "    <tr>\n",
       "      <th>0</th>\n",
       "      <td>445.5</td>\n",
       "      <td>5.200000e-125</td>\n",
       "      <td>gidA</td>\n",
       "      <td>54.5</td>\n",
       "      <td>663</td>\n",
       "      <td>1004</td>\n",
       "      <td>1662</td>\n",
       "      <td>54.5</td>\n",
       "      <td>ABJ90487</td>\n",
       "      <td>2335.3</td>\n",
       "    </tr>\n",
       "    <tr>\n",
       "      <th>1</th>\n",
       "      <td>45.6</td>\n",
       "      <td>1.300000e-04</td>\n",
       "      <td>ygeF</td>\n",
       "      <td>58.0</td>\n",
       "      <td>76</td>\n",
       "      <td>146</td>\n",
       "      <td>155</td>\n",
       "      <td>58.0</td>\n",
       "      <td>ABJ90487</td>\n",
       "      <td>185.3</td>\n",
       "    </tr>\n",
       "    <tr>\n",
       "      <th>2</th>\n",
       "      <td>42.5</td>\n",
       "      <td>1.100000e-03</td>\n",
       "      <td>rfaK</td>\n",
       "      <td>58.6</td>\n",
       "      <td>85</td>\n",
       "      <td>216</td>\n",
       "      <td>153</td>\n",
       "      <td>58.6</td>\n",
       "      <td>ABJ90487</td>\n",
       "      <td>161.7</td>\n",
       "    </tr>\n",
       "    <tr>\n",
       "      <th>3</th>\n",
       "      <td>40.3</td>\n",
       "      <td>5.000000e-03</td>\n",
       "      <td>rfaS</td>\n",
       "      <td>55.2</td>\n",
       "      <td>93</td>\n",
       "      <td>129</td>\n",
       "      <td>169</td>\n",
       "      <td>55.2</td>\n",
       "      <td>ABJ90487</td>\n",
       "      <td>150.8</td>\n",
       "    </tr>\n",
       "    <tr>\n",
       "      <th>4</th>\n",
       "      <td>39.5</td>\n",
       "      <td>8.400000e-03</td>\n",
       "      <td>yddJ</td>\n",
       "      <td>57.5</td>\n",
       "      <td>85</td>\n",
       "      <td>135</td>\n",
       "      <td>133</td>\n",
       "      <td>57.5</td>\n",
       "      <td>ABJ90487</td>\n",
       "      <td>154.8</td>\n",
       "    </tr>\n",
       "  </tbody>\n",
       "</table>\n",
       "</div>"
      ],
      "text/plain": [
       "   bitscore         evalue hit_id  ident_pct  init1_score  initn_score  \\\n",
       "0     445.5  5.200000e-125   gidA       54.5          663         1004   \n",
       "1      45.6   1.300000e-04   ygeF       58.0           76          146   \n",
       "2      42.5   1.100000e-03   rfaK       58.6           85          216   \n",
       "3      40.3   5.000000e-03   rfaS       55.2           93          129   \n",
       "4      39.5   8.400000e-03   yddJ       57.5           85          135   \n",
       "\n",
       "   opt_score  pos_pct  query_id  z_score  \n",
       "0       1662     54.5  ABJ90487   2335.3  \n",
       "1        155     58.0  ABJ90487    185.3  \n",
       "2        153     58.6  ABJ90487    161.7  \n",
       "3        169     55.2  ABJ90487    150.8  \n",
       "4        133     57.5  ABJ90487    154.8  "
      ]
     },
     "execution_count": 12,
     "metadata": {},
     "output_type": "execute_result"
    }
   ],
   "source": [
    "from tempfile import TemporaryFile , mkdtemp\n",
    "\n",
    "fout = \"ggsearch.m10\"\n",
    "fout = \"ggsearch_aln.m10\"\n",
    "fout = \"fasta36_aln.m10\"\n",
    "fout = \"fasta36_aln_BAphid.m10\"\n",
    "\n",
    "fas1 = \"Buchnera_aphidicola_bcc.ASM9096v1.cdna.all.fa\"\n",
    "fas2 = \"Escherichia_coli_str_k_12_substr_mds42.GCA_000350185.1.23.cdna.all.names.fa\"\n",
    "\n",
    "\n",
    "# hash2head = hashfasta()\n",
    "# fasta\n",
    "# f_handles = split_file( fout, 100, delimiter = '>>><<<')\n",
    "# fout = f_handles[1]\n",
    "dout = out2dmat(fout,para = 6)\n",
    "\n",
    "# fas1 = fastaLib(fas1)\n",
    "# fas2 = fastaLib(fas2)\n",
    "# import os\n",
    "print \"Data parsed\"\n",
    "# dout\n",
    "\n",
    "# len(dout)\n",
    "import matplotlib\n",
    "matplotlib.style.use('ggplot')\n",
    "import matplotlib.pyplot as plt\n",
    "import pandas as pd #this is how I usually import pandas\n",
    "# dcts = [x.__dict__ for x in dout]\n",
    "dcts = dout\n",
    "df = pd.DataFrame(dcts)\n",
    "df['query_id'] = df['query_id'].astype(object)\n",
    "df['hit_id'] = df['hit_id'].astype(object)\n",
    "# df.boxplot\n",
    "# dout[0].__dict__\n",
    "\n",
    "print \"Data Frame is Ready\"\n",
    "df.head()\n"
   ]
  },
  {
   "cell_type": "code",
   "execution_count": 11,
   "metadata": {},
   "outputs": [
    {
     "ename": "NameError",
     "evalue": "name 'f_handles' is not defined",
     "output_type": "error",
     "traceback": [
      "\u001b[0;31m---------------------------------------------------------------------------\u001b[0m",
      "\u001b[0;31mNameError\u001b[0m                                 Traceback (most recent call last)",
      "\u001b[0;32m<ipython-input-11-af10d9332ba2>\u001b[0m in \u001b[0;36m<module>\u001b[0;34m()\u001b[0m\n\u001b[0;32m----> 1\u001b[0;31m \u001b[0;32mfor\u001b[0m \u001b[0mf\u001b[0m \u001b[0;32min\u001b[0m \u001b[0mf_handles\u001b[0m\u001b[0;34m:\u001b[0m\u001b[0;34m\u001b[0m\u001b[0m\n\u001b[0m\u001b[1;32m      2\u001b[0m     \u001b[0mos\u001b[0m\u001b[0;34m.\u001b[0m\u001b[0mremove\u001b[0m\u001b[0;34m(\u001b[0m\u001b[0mf\u001b[0m\u001b[0;34m)\u001b[0m\u001b[0;34m\u001b[0m\u001b[0m\n\u001b[1;32m      3\u001b[0m \u001b[0;32mfor\u001b[0m \u001b[0mf\u001b[0m \u001b[0;32min\u001b[0m \u001b[0mf_handles1\u001b[0m\u001b[0;34m:\u001b[0m\u001b[0;34m\u001b[0m\u001b[0m\n\u001b[1;32m      4\u001b[0m     \u001b[0mos\u001b[0m\u001b[0;34m.\u001b[0m\u001b[0mremove\u001b[0m\u001b[0;34m(\u001b[0m\u001b[0mf\u001b[0m\u001b[0;34m)\u001b[0m\u001b[0;34m\u001b[0m\u001b[0m\n\u001b[1;32m      5\u001b[0m \u001b[0;32mprint\u001b[0m \u001b[0;34m\"Done\"\u001b[0m\u001b[0;34m\u001b[0m\u001b[0m\n",
      "\u001b[0;31mNameError\u001b[0m: name 'f_handles' is not defined"
     ]
    }
   ],
   "source": [
    "################## Trasher ################\n",
    "for f in f_handles:\n",
    "    os.remove(f)\n",
    "for f in f_handles1:\n",
    "    os.remove(f)\n",
    "print \"Done\"    \n",
    "print \"Done\""
   ]
  },
  {
   "cell_type": "code",
   "execution_count": 15,
   "metadata": {},
   "outputs": [
    {
     "data": {
      "text/plain": [
       "<matplotlib.axes._subplots.AxesSubplot at 0x7f853cb40410>"
      ]
     },
     "execution_count": 15,
     "metadata": {},
     "output_type": "execute_result"
    },
    {
     "data": {
      "text/plain": [
       "<matplotlib.figure.Figure at 0x7f853cb7a3d0>"
      ]
     },
     "metadata": {},
     "output_type": "display_data"
    },
    {
     "data": {
      "image/png": "[encoded data removed]",
      "text/plain": [
       "<matplotlib.figure.Figure at 0x7f8568262b90>"
      ]
     },
     "metadata": {},
     "output_type": "display_data"
    },
    {
     "data": {
      "image/png": "[encoded data removed]",
      "text/plain": [
       "<matplotlib.figure.Figure at 0x7f853ca11990>"
      ]
     },
     "metadata": {},
     "output_type": "display_data"
    }
   ],
   "source": [
    "# df.plot.scatter(x='query_id', y='bitscore');\n",
    "%matplotlib inline\n",
    "plt.figure()\n",
    "df.plot(x='query_id', y='bitscore',style='x'\n",
    "       ,logy = 'true')\n",
    "df.plot(x='query_id', y='evalue',style='x'\n",
    "       ,logy = 'true')\n",
    "# ?df.plot\n",
    "# pl.xticks(x,xticks)"
   ]
  },
  {
   "cell_type": "code",
   "execution_count": 16,
   "metadata": {},
   "outputs": [
    {
     "data": {
      "text/plain": [
       "<matplotlib.collections.PathCollection at 0x7f857d23ded0>"
      ]
     },
     "execution_count": 16,
     "metadata": {},
     "output_type": "execute_result"
    },
    {
     "data": {
      "image/png": "[encoded data removed]",
      "text/plain": [
       "<matplotlib.figure.Figure at 0x7f853cd27390>"
      ]
     },
     "metadata": {},
     "output_type": "display_data"
    }
   ],
   "source": [
    "###########################################\n",
    "## And visulise \n",
    "###########################################\n",
    "# plt.scatter(x = df2['evalue'].transform(lambda x: -np.log10(x) if x else 250 ),\n",
    "#            y = df2['bitscore'])\n",
    "\n",
    "# idx = df.groupby(['query_id'])['evalue'].transform(min) == df['evalue']\n",
    "idx = df.groupby(['query_id'])['bitscore'].transform(max) == df['bitscore']\n",
    "df2 = df[idx]\n",
    "# df2.__len__()\n",
    "# help(df2['evalue'].hist)\n",
    "# ()\n",
    "df2['evalue'].transform(lambda x: -np.log10(x) if x else 250 ).hist(bins = 100)\n",
    "# df2['bitscore'].hist(bins = 100)\n",
    "plt.gca().set_yscale('log')\n",
    "# plt.gca().set_xscale('log')\n",
    "\n",
    "# df2  = df.groupby(['query_id'],as_index=False).agg({'bitscore':'max','evalue':'min'})\n",
    "# df2\n",
    "plt.scatter(x = df2['evalue'].transform(lambda x: -np.log10(x) if x else 250 ),\n",
    "           y = df2['bitscore'])"
   ]
  },
  {
   "cell_type": "code",
   "execution_count": null,
   "metadata": {
    "collapsed": true
   },
   "outputs": [],
   "source": [
    "###########################################\n",
    "## And visulise E-value ######\n",
    "###########################################\n",
    "import numpy as np\n",
    "import pylab as p\n",
    "data=np.array(np.random.rand(1000))\n",
    "y,binEdges=np.histogram(data,bins=100)\n",
    "bincenters = 0.5*(binEdges[1:]+binEdges[:-1])\n",
    "p.plot(bincenters,y,'-')\n",
    "p.show()\n",
    "\n",
    "ax.hist()"
   ]
  },
  {
   "cell_type": "code",
   "execution_count": 3,
   "metadata": {
    "scrolled": true
   },
   "outputs": [
    {
     "name": "stderr",
     "output_type": "stream",
     "text": [
      "ERROR:root:Cell magic `%%R` not found.\n"
     ]
    }
   ],
   "source": [
    "fout = \"test.m10\"\n",
    "# fasdfsadf\n",
    "# print \"hi\""
   ]
  }
 ],
 "metadata": {
  "kernelspec": {
   "display_name": "Python 2",
   "language": "python",
   "name": "python2"
  },
  "language_info": {
   "codemirror_mode": {
    "name": "ipython",
    "version": 2
   },
   "file_extension": ".py",
   "mimetype": "text/x-python",
   "name": "python",
   "nbconvert_exporter": "python",
   "pygments_lexer": "ipython2",
   "version": "2.7.12"
  }
 },
 "nbformat": 4,
 "nbformat_minor": 1
}
