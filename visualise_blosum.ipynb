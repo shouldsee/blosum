{
 "cells": [
  {
   "cell_type": "code",
   "execution_count": 1,
   "metadata": {
    "collapsed": false
   },
   "outputs": [],
   "source": [
    "# This code is part of the Biopython distribution and governed by its\n",
    "# license.  Please see the LICENSE file that should have been included\n",
    "# as part of this package.\n",
    "\n",
    "try:\n",
    "    from numpy import corrcoef\n",
    "    del corrcoef\n",
    "except ImportError:\n",
    "    from Bio import MissingExternalDependencyError\n",
    "    raise MissingExternalDependencyError(\n",
    "        \"Install NumPy if you want to use Bio.SubsMat.\")\n",
    "try:\n",
    "    import cPickle as pickle  # Only available on Python 2\n",
    "except ImportError:\n",
    "    import pickle\n",
    "\n",
    "import sys\n",
    "import os\n",
    "from Bio import SubsMat\n",
    "from Bio.SubsMat import FreqTable, MatrixInfo\n",
    "f = sys.stdout"
   ]
  },
  {
   "cell_type": "code",
   "execution_count": 163,
   "metadata": {
    "collapsed": false
   },
   "outputs": [],
   "source": [
    "## URL: ftp://ftp.ncbi.nih.gov/repository/blocks/unix/blosum/BLOSUM/blosum62.out\n",
    "\n",
    "s = '''\n",
    "Frequencies = fij pairs (off-diagonals = 2*fij):\n",
    "    A      R      N      D      C      Q      E      G      H      I      L      K      M      F      P      S      T      W      Y      V  \n",
    " 10682.82 \n",
    "  3034.87   8494.79 \n",
    "  2677.36   2210.31   5606.34 \n",
    "  2891.15   2068.86   3892.52   8992.11 \n",
    "  1689.11    566.42    652.05    546.53   5057.53 \n",
    "  2441.71   2812.23   1757.19   1933.64    417.90   3191.29 \n",
    "  3837.90   3269.54   2524.00   5358.06    639.98   3670.58   7875.47 \n",
    "  6935.48   2265.08   3479.11   3148.02    962.77   1843.05   2507.44  17597.50 \n",
    "  1351.17   1439.05   1674.77   1250.48    317.89   1162.52   1416.43   1222.49   3554.27 \n",
    "  3906.94   1654.55   1404.28   1357.79    935.28   1252.95   1674.21   1952.28    725.87   7798.61 \n",
    "  5354.86   3141.84   1917.64   2041.07   1544.93   2093.64   2875.89   2964.24   1440.65  11576.47  16939.58 \n",
    "  3689.71   7089.26   2983.71   2950.49    661.72   3194.38   4844.61   3118.43   1506.60   1934.51   2953.51   7241.46 \n",
    "  1774.76    980.91    724.98    607.40    412.85    910.78    927.94   1042.21    510.32   2503.11   4648.35   1077.46   1595.24 \n",
    "  2240.63   1317.72   1025.84    928.86    675.63    780.32   1379.43   1638.17    999.38   3397.82   6462.76   1380.05   1374.17   8552.17 \n",
    "  2492.00   1258.01   1201.10   1661.25    409.72   1193.88   2156.68   2086.22    655.00   1491.83   1931.79   2013.28    605.18    823.20   9501.33 \n",
    "  6916.08   2838.82   3540.37   3138.24   1227.18   2473.26   3299.41   4890.12   1346.91   2316.44   3234.27   3424.75   1102.55   1762.50   2057.56   6193.92 \n",
    "  4365.37   2312.40   2852.92   2500.45   1076.15   1668.51   2725.77   2770.49    950.88   3251.22   4278.60   2882.78   1268.59   1617.45   1804.51   5250.78   5543.30 \n",
    "   541.81    430.02    250.35    240.98    106.37    381.15    472.38    569.39    179.24    511.16    878.02    407.96    283.58    990.14    262.28    356.34    406.23   3282.03 \n",
    "  1703.39   1444.85   1003.84    967.47    448.60    967.06   1372.64   1287.71   1447.71   1974.89   3061.73   1442.13    835.20   4351.38    714.27   1444.93   1364.06    902.82   4307.45 \n",
    "  6063.16   2202.29   1631.30   1790.49   1456.31   1570.86   2182.23   2400.08    824.82  11956.78  10215.18   2441.76   2387.67   3336.68   1730.34   3257.51   4526.65    536.28   1965.96   9111.27 \n",
    "  '''\n",
    "lines  = s.splitlines()\n",
    "alist  = lines[2].split()\n",
    "adict = { v:i for i,v in enumerate(alist)};\n",
    "OUTPUT = {}\n",
    "for i0,line in enumerate(lines[3:]):    \n",
    "#     print list( ((i0,i1):float(v)) for i1,v in enumerate(line.split()))\n",
    "    OUTPUT.update({(i0,i1):float(v) for i1,v in enumerate(line.split())})\n",
    "import scipy.sparse\n",
    "# import scipy\n",
    "m0 = scipy.sparse.dok_matrix( 2*(len(alist), ), 'float')\n",
    "m0.update(OUTPUT)\n",
    "m0 = m0.todense()\n",
    "dg =  np.diag(np.diag(m0))\n",
    "m0 = (m0 + m0.T - dg) / 2\n"
   ]
  },
  {
   "cell_type": "code",
   "execution_count": 167,
   "metadata": {
    "collapsed": false
   },
   "outputs": [
    {
     "data": {
      "text/plain": [
       "<matplotlib.image.AxesImage at 0x7fe79ae09e10>"
      ]
     },
     "execution_count": 167,
     "metadata": {},
     "output_type": "execute_result"
    },
    {
     "data": {
      "image/png": "[encoded data removed]",
      "text/plain": [
       "<matplotlib.figure.Figure at 0x7fe79b012f10>"
      ]
     },
     "metadata": {},
     "output_type": "display_data"
    }
   ],
   "source": [
    "import matplotlib.pyplot as plt\n",
    "%matplotlib inline\n",
    "fmat = m0\n",
    "marfs = m0.sum(axis = 1)\n",
    "# marps = marfs / sum(marfs)\n",
    "\n",
    "pmat = fmat.copy() / sum(marfs)\n",
    "# plt.matshow(fmat)\n",
    "marps = pmat.sum(axis = 1).ravel()\n",
    "# fmat\n",
    "mat = scipy.log10(pmat)\n",
    "plt.matshow(mat)"
   ]
  },
  {
   "cell_type": "code",
   "execution_count": 168,
   "metadata": {
    "collapsed": false
   },
   "outputs": [
    {
     "name": "stdout",
     "output_type": "stream",
     "text": [
      "-0.063028176227 0.222882485206\n",
      "1.02365110731 0.0810489702289\n"
     ]
    },
    {
     "data": {
      "text/plain": [
       "array([ 0.87985732,  0.80410647,  0.82772444,  0.78068816,  0.67572262,\n",
       "        0.86655937,  0.83952184,  0.74100329,  0.75845363,  0.88603179,\n",
       "        0.85054078,  0.86619587,  0.88232428,  0.77121244,  0.70295258,\n",
       "        0.90943887,  0.89170329,  0.64768143,  0.80184296,  0.89655943])"
      ]
     },
     "execution_count": 168,
     "metadata": {},
     "output_type": "execute_result"
    },
    {
     "data": {
      "image/png": "[encoded data removed]",
      "text/plain": [
       "<matplotlib.figure.Figure at 0x7fe79b05d410>"
      ]
     },
     "metadata": {},
     "output_type": "display_data"
    }
   ],
   "source": [
    "import matplotlib.pyplot as plt\n",
    "%matplotlib inline\n",
    "marps = pmat.sum(axis = 1).ravel()\n",
    "lmarps = np.log10(marps)\n",
    "\n",
    "npmat = pmat.copy() / marps.T /marps\n",
    "\n",
    "mat1 = np.log10(npmat) \n",
    "mat2 = np.log10(pmat.copy()) / (lmarps + lmarps.T) \n",
    "# mat2 = np.log10(pmat.copy())  0.5 * (lmarps + lmarps.T) \n",
    "\n",
    "print mat1.mean(),mat1.std()\n",
    "print mat2.mean(),mat2.std()\n",
    "\n",
    "\n",
    "fig = plt.figure(figsize = [10,10])\n",
    "ax1 = plt.subplot(121)\n",
    "ax2 = plt.subplot(122)\n",
    "ax1.matshow(mat1)\n",
    "ax2.matshow(mat2)\n",
    "np.diag(mat2)\n",
    "# mat2\n",
    "# mat"
   ]
  },
  {
   "cell_type": "code",
   "execution_count": 110,
   "metadata": {
    "collapsed": false
   },
   "outputs": [
    {
     "data": {
      "text/plain": [
       "(1, 20)"
      ]
     },
     "execution_count": 110,
     "metadata": {},
     "output_type": "execute_result"
    }
   ],
   "source": [
    "marps.shape"
   ]
  },
  {
   "cell_type": "code",
   "execution_count": 107,
   "metadata": {
    "collapsed": false
   },
   "outputs": [
    {
     "data": {
      "text/plain": [
       "<numpy.flatiter at 0x3941c40>"
      ]
     },
     "execution_count": 107,
     "metadata": {},
     "output_type": "execute_result"
    }
   ],
   "source": [
    "marps.flat"
   ]
  },
  {
   "cell_type": "code",
   "execution_count": 19,
   "metadata": {
    "collapsed": true
   },
   "outputs": [],
   "source": [
    "?anim.to_html5_video"
   ]
  },
  {
   "cell_type": "code",
   "execution_count": 99,
   "metadata": {
    "collapsed": false
   },
   "outputs": [
    {
     "data": {
      "text/plain": [
       "(<matplotlib.figure.Figure at 0x7fe79cee67d0>,)"
      ]
     },
     "execution_count": 99,
     "metadata": {},
     "output_type": "execute_result"
    },
    {
     "data": {
      "image/png": "[encoded data removed]",
      "text/plain": [
       "<matplotlib.figure.Figure at 0x7fe79cee67d0>"
      ]
     },
     "metadata": {},
     "output_type": "display_data"
    }
   ],
   "source": [
    "import matplotlib.pyplot as plt\n",
    "from matplotlib import cm\n",
    "%matplotlib inline\n",
    "from mpl_toolkits.mplot3d import Axes3D\n",
    "import numpy as np\n",
    "\n",
    "lmarps = np.log10(marps)\n",
    "xs,ys = np.meshgrid( lmarps, lmarps)\n",
    "zs = np.log10(pmat)\n",
    "\n",
    "xs = np.array(xs)\n",
    "ys = np.array(ys)\n",
    "zs = np.array(zs)\n",
    "X = np.linspace(xs.min(), xs.max(),30)\n",
    "Y = np.linspace(ys.min(), ys.max(),30)\n",
    "# Z = np.linspace(zss.min(), zss.max(),30)\n",
    "# Y = np.arange(-5, 5, 0.25)\n",
    "X, Y = np.meshgrid(X, Y)\n",
    "Z = (X + Y) / 1 \n",
    "\n",
    "\n",
    "siz = [500,500]\n",
    "DPI = 100\n",
    "\n",
    "fig = plt.figure(figsize = [x/float(DPI) for x in siz], dpi=DPI)\n",
    "ax1 = fig.add_subplot(111, projection='3d')\n",
    "\n",
    "\n",
    "\n",
    "from matplotlib import animation, rc\n",
    "import IPython.display as ipd \n",
    "\n",
    "def init():\n",
    "    pts = ax1.scatter(xs,ys,zs, s =2)\n",
    "    ax1.set_xlim([-.5,-2])\n",
    "    ax1.set_ylim([-.5,-2])\n",
    "    ax1.set_zlim([0,-5])\n",
    "\n",
    "    #     pts = ax1.scatter(xss,yss,zss,'.',3, c = kde([xss,yss,zss]))# for angle in range(0, 360):\n",
    "    surf = ax1.plot_surface(X, Y, Z, cmap=cm.coolwarm, alpha = 0.5, \n",
    "                       linewidth=0, antialiased=False)\n",
    "    i = -4\n",
    "    ax1.view_init(elev=30., azim=i*10)\n",
    "    return (fig,)\n",
    "\n",
    "\n",
    "def animate(i):\n",
    "    ax1.view_init(elev=10., azim=i*10)\n",
    "    return (fig,)\n",
    "init()\n",
    "# anim = animation.FuncAnimation(fig, animate, init_func=init,\n",
    "#                                frames=360, interval=20, blit=True\n",
    "#                               );\n",
    "# anim.save('anim.mp4', fps=20,\n",
    "#           writer = 'avconv',codec='libx264')"
   ]
  },
  {
   "cell_type": "code",
   "execution_count": 35,
   "metadata": {
    "collapsed": false
   },
   "outputs": [],
   "source": [
    "anim = animation.FuncAnimation(fig, animate, init_func=init,\n",
    "                               frames=360, interval=10, blit=True\n",
    "                              );\n",
    "anim.save('anim.mp4', \n",
    "#           fps=20,\n",
    "          writer = 'avconv',codec='libx264')"
   ]
  },
  {
   "cell_type": "code",
   "execution_count": 36,
   "metadata": {
    "collapsed": false
   },
   "outputs": [
    {
     "data": {
      "text/html": [
       "<video alt=\"test\" controls>\n",
       "                <source src=\"data:video/mp4;base64,\" type=\"video/mp4\" />\n",
       "             </video>"
      ],
      "text/plain": [
       "<IPython.core.display.HTML object>"
      ]
     },
     "execution_count": 36,
     "metadata": {},
     "output_type": "execute_result"
    }
   ],
   "source": [
    "import io\n",
    "import base64\n",
    "\n",
    "video = io.open('anim.mp4', 'r+b').read()\n",
    "encoded = base64.b64encode(video)\n",
    "ipd.HTML(data='''<video alt=\"test\" controls>\n",
    "                <source src=\"data:video/mp4;base64,{0}\" type=\"video/mp4\" />\n",
    "             </video>'''.format(encoded.decode('ascii')))\n",
    "\n",
    "# mat1.shape\n",
    "# for x,y,z in \n",
    "# ax.view(30,1)\n",
    "\n",
    "\n",
    "# marfs\n",
    "\n",
    "# print marps\n",
    "# dir(acc_rep_mat)\n",
    "# import numpy as np\n",
    "\n",
    "# d = \n",
    "# d = "
   ]
  },
  {
   "cell_type": "code",
   "execution_count": 2,
   "metadata": {
    "collapsed": false,
    "scrolled": true
   },
   "outputs": [
    {
     "name": "stdout",
     "output_type": "stream",
     "text": [
      "Check differences between derived and true frequencies for each\n",
      "letter. Differences should be very small\n",
      "A 0.000009\n",
      "C 0.000001\n",
      "D 0.000006\n",
      "E 0.000006\n",
      "F 0.000004\n",
      "G 0.000008\n",
      "H 0.000002\n",
      "I 0.000006\n",
      "K 0.000006\n",
      "L 0.000009\n",
      "M 0.000002\n",
      "N 0.000005\n",
      "P 0.000005\n",
      "Q 0.000004\n",
      "R 0.000005\n",
      "S 0.000006\n",
      "T 0.000006\n",
      "V 0.000008\n",
      "W 0.000002\n",
      "Y 0.000004\n"
     ]
    }
   ],
   "source": [
    "\n",
    "ftab_file = os.path.join('SubsMat', 'protein_count.txt')\n",
    "with open(ftab_file) as handle:\n",
    "    ftab_prot = FreqTable.read_count(handle)\n",
    "ctab_file = os.path.join('SubsMat', 'protein_freq.txt')\n",
    "with open(ctab_file) as handle:\n",
    "    ctab_prot = FreqTable.read_freq(handle)\n",
    "f.write(\"Check differences between derived and true frequencies for each\\n\")\n",
    "f.write(\"letter. Differences should be very small\\n\")\n",
    "for i in ftab_prot.alphabet.letters:\n",
    "    f.write(\"%s %f\\n\" % (i, abs(ftab_prot[i] - ctab_prot[i])))"
   ]
  },
  {
   "cell_type": "code",
   "execution_count": 5,
   "metadata": {
    "collapsed": false,
    "scrolled": true
   },
   "outputs": [
    {
     "name": "stdout",
     "output_type": "stream",
     "text": [
      "A 0.011\n",
      "C 0.002 0.002\n",
      "D 0.009 0.001 0.008\n",
      "E 0.010 0.001 0.008 0.006\n",
      "F 0.006 0.002 0.003 0.003 0.004\n",
      "G 0.011 0.002 0.007 0.007 0.005 0.016\n",
      "H 0.003 0.001 0.003 0.002 0.002 0.003 0.003\n",
      "I 0.010 0.002 0.003 0.003 0.008 0.005 0.002 0.007\n",
      "K 0.010 0.001 0.008 0.008 0.003 0.007 0.003 0.004 0.006\n",
      "L 0.015 0.003 0.006 0.007 0.012 0.008 0.004 0.017 0.006 0.016\n",
      "M 0.004 0.001 0.001 0.002 0.003 0.002 0.001 0.004 0.002 0.008 0.001\n",
      "N 0.007 0.001 0.008 0.006 0.003 0.007 0.003 0.003 0.007 0.005 0.002 0.003\n",
      "P 0.006 0.001 0.005 0.005 0.003 0.005 0.001 0.003 0.005 0.004 0.001 0.005 0.006\n",
      "Q 0.006 0.001 0.006 0.005 0.002 0.004 0.002 0.003 0.005 0.004 0.001 0.004 0.003 0.002\n",
      "R 0.008 0.001 0.006 0.006 0.003 0.004 0.002 0.003 0.008 0.005 0.002 0.005 0.004 0.004 0.005\n",
      "S 0.010 0.001 0.008 0.007 0.005 0.008 0.003 0.004 0.007 0.008 0.002 0.006 0.005 0.005 0.005 0.006\n",
      "T 0.010 0.002 0.006 0.008 0.003 0.008 0.003 0.004 0.007 0.009 0.002 0.005 0.005 0.005 0.006 0.009 0.004\n",
      "V 0.013 0.003 0.005 0.006 0.008 0.007 0.003 0.016 0.007 0.022 0.005 0.005 0.005 0.003 0.004 0.006 0.007 0.012\n",
      "W 0.002 0.000 0.001 0.001 0.002 0.002 0.001 0.002 0.001 0.004 0.001 0.001 0.001 0.001 0.001 0.001 0.002 0.002 0.002\n",
      "Y 0.006 0.001 0.003 0.003 0.007 0.005 0.002 0.005 0.003 0.009 0.002 0.004 0.003 0.002 0.003 0.004 0.005 0.007 0.003 0.004\n",
      "   A   C   D   E   F   G   H   I   K   L   M   N   P   Q   R   S   T   V   W   Y\n",
      "Diff between supplied and matrix-derived frequencies, should be small\n",
      "A 0.00\n",
      "C 0.00\n",
      "D 0.00\n",
      "E 0.00\n",
      "F 0.00\n",
      "G 0.01\n",
      "H 0.00\n",
      "I 0.01\n",
      "K 0.00\n",
      "L 0.01\n",
      "M 0.00\n",
      "N 0.00\n",
      "P 0.00\n",
      "Q 0.00\n",
      "R 0.00\n",
      "S 0.00\n",
      "T 0.00\n",
      "V 0.00\n",
      "W 0.00\n",
      "Y 0.00\n"
     ]
    }
   ],
   "source": [
    "pickle_file = os.path.join('SubsMat', 'acc_rep_mat.pik')\n",
    "# Don't want to use text mode on Python 3,\n",
    "with open(pickle_file, 'rb') as handle:\n",
    "    acc_rep_mat = pickle.load(handle)\n",
    "    \n",
    "acc_rep_mat = SubsMat.AcceptedReplacementsMatrix(acc_rep_mat)\n",
    "obs_freq_mat = SubsMat._build_obs_freq_mat(acc_rep_mat)\n",
    "ftab_prot2 = SubsMat._exp_freq_table_from_obs_freq(obs_freq_mat)\n",
    "obs_freq_mat.print_mat(f=f, format=\" %4.3f\")\n",
    "\n",
    "\n",
    "f.write(\"Diff between supplied and matrix-derived frequencies, should be small\\n\")\n",
    "for i in sorted(ftab_prot):\n",
    "    f.write(\"%s %.2f\\n\" % (i, abs(ftab_prot[i] - ftab_prot2[i])))"
   ]
  },
  {
   "cell_type": "code",
   "execution_count": 27,
   "metadata": {
    "collapsed": false
   },
   "outputs": [
    {
     "data": {
      "text/plain": [
       "(1, 1)"
      ]
     },
     "execution_count": 27,
     "metadata": {},
     "output_type": "execute_result"
    }
   ],
   "source": [
    "2*(1,)"
   ]
  },
  {
   "cell_type": "code",
   "execution_count": 28,
   "metadata": {
    "collapsed": false
   },
   "outputs": [],
   "source": [
    "pickle_file = os.path.join('SubsMat', 'acc_rep_mat.pik')\n",
    "# Don't want to use text mode on Python 3,\n",
    "with open(pickle_file, 'rb') as handle:\n",
    "    acc_rep_mat = pickle.load(handle)    \n",
    "acc_rep_mat = SubsMat.AcceptedReplacementsMatrix(acc_rep_mat)\n",
    "obs_freq_mat = SubsMat._build_obs_freq_mat(acc_rep_mat)\n",
    "\n",
    "\n",
    "m0 = obs_freq_mat\n",
    "from scipy.sparse import *\n",
    "# (len(acc_rep_mat)*2)**0.5\n",
    "\n",
    "alist = m0.__dict__['ab_list']\n",
    "adict = { v:i for i,v in enumerate(alist)};\n",
    "\n",
    "d = dok_matrix( 2*(len(alist),),dtype = 'float')\n",
    "d.update({tuple(adict[v] for v in k):vo for k,vo in m0.iteritems()})\n",
    "d = d.todense()\n"
   ]
  },
  {
   "cell_type": "code",
   "execution_count": 32,
   "metadata": {
    "collapsed": false
   },
   "outputs": [
    {
     "data": {
      "text/plain": [
       "<matplotlib.image.AxesImage at 0x7f75cf2b4250>"
      ]
     },
     "execution_count": 32,
     "metadata": {},
     "output_type": "execute_result"
    },
    {
     "data": {
      "image/png": "[encoded data removed]",
      "text/plain": [
       "<matplotlib.figure.Figure at 0x7f75cf37d2d0>"
      ]
     },
     "metadata": {},
     "output_type": "display_data"
    }
   ],
   "source": [
    "# d.update()\n",
    "import matplotlib.pyplot as plt\n",
    "%matplotlib inline\n",
    "# plt.figure()\n",
    "plt.matshow(d)\n",
    "# dir(acc_rep_mat)\n",
    "# SubsMat.Alphabet()"
   ]
  },
  {
   "cell_type": "code",
   "execution_count": 24,
   "metadata": {
    "collapsed": false
   },
   "outputs": [
    {
     "name": "stdout",
     "output_type": "stream",
     "text": [
      "Calculating sum of letters for an observed frequency matrix\n"
     ]
    },
    {
     "data": {
      "text/plain": [
       "0.9999999999999998"
      ]
     },
     "execution_count": 24,
     "metadata": {},
     "output_type": "execute_result"
    }
   ],
   "source": [
    "s = 0.\n",
    "f.write(\"Calculating sum of letters for an observed frequency matrix\\n\")\n",
    "counts = obs_freq_mat.sum()"
   ]
  },
  {
   "cell_type": "code",
   "execution_count": 21,
   "metadata": {
    "collapsed": false
   },
   "outputs": [
    {
     "name": "stdout",
     "output_type": "stream",
     "text": [
      "Calculating sum of letters for an observed frequency matrix\n",
      "A\t0.09\n",
      "C\t0.02\n",
      "D\t0.06\n",
      "E\t0.05\n",
      "F\t0.04\n",
      "G\t0.07\n",
      "H\t0.02\n",
      "I\t0.06\n",
      "K\t0.06\n",
      "L\t0.09\n",
      "M\t0.02\n",
      "N\t0.05\n",
      "P\t0.04\n",
      "Q\t0.04\n",
      "R\t0.04\n",
      "S\t0.06\n",
      "T\t0.06\n",
      "V\t0.08\n",
      "W\t0.02\n",
      "Y\t0.04\n",
      "Total sum 1.00 should be 1.0\n",
      "\n",
      "Log odds matrix\n",
      "\n",
      "Log odds half matrix\n",
      "A 0\n",
      "V 0 1\n",
      "I 0 0 1\n",
      "L 0 0 0 0\n",
      "M 0 0 0 0 1\n",
      "C 0 0 0 0 0 3\n",
      "F 0 0 0 0 0 0 1\n",
      "W 0 0 0 0 0 0 0 2\n",
      "Y 0 0 0 0 0 0 0 0 1\n",
      "H 0 0 0 0 0 0 0 0 0 2\n",
      "S 0 0 0 0 0 0 0 0 0 0 0\n",
      "T 0 0 0 0 0 0 0 0 0 0 0 0\n",
      "N 0 0 0 0 0 0 0 0 0 0 0 0 0\n",
      "Q 0 0 0 0 0 0 0 0 0 0 0 0 0 0\n",
      "K 0 0 0 0 0 0 0 0 0 0 0 0 0 0 0\n",
      "R 0 0 0 0 0 0 0 0 0 0 0 0 0 0 0 1\n",
      "D 0 0 -1 0 -1 -1 0 0 0 0 0 0 0 0 0 0 1\n",
      "E 0 0 -1 0 0 0 -1 0 0 0 0 0 0 0 0 0 0 1\n",
      "G 0 0 0 0 0 0 0 0 0 0 0 0 0 0 0 0 0 0 1\n",
      "P 0 0 0 -1 -1 0 0 0 0 0 0 0 0 0 0 0 0 0 0 1\n",
      "   A   V   I   L   M   C   F   W   Y   H   S   T   N   Q   K   R   D   E   G   P\n"
     ]
    }
   ],
   "source": [
    "for key in sorted(counts):\n",
    "    f.write(\"%s\\t%.2f\\n\" % (key, counts[key]))\n",
    "    s += counts[key]\n",
    "f.write(\"Total sum %.2f should be 1.0\\n\" % (s))\n",
    "lo_mat_prot = \\\n",
    "SubsMat.make_log_odds_matrix(acc_rep_mat=acc_rep_mat, round_digit=1)  # ,ftab_prot\n",
    "f.write(\"\\nLog odds matrix\\n\")\n",
    "f.write(\"\\nLog odds half matrix\\n\")\n",
    "# Was %.1f. Let us see if this is OK\n",
    "lo_mat_prot.print_mat(f=f, format=\" %d\", alphabet='AVILMCFWYHSTNQKRDEGP')"
   ]
  },
  {
   "cell_type": "code",
   "execution_count": null,
   "metadata": {
    "collapsed": true
   },
   "outputs": [],
   "source": [
    "s = 0.\n",
    "f.write(\"Calculating sum of letters for an observed frequency matrix\\n\")\n",
    "counts = obs_freq_mat.sum()\n",
    "for key in sorted(counts):\n",
    "    f.write(\"%s\\t%.2f\\n\" % (key, counts[key]))\n",
    "    s += counts[key]\n",
    "f.write(\"Total sum %.2f should be 1.0\\n\" % (s))\n",
    "lo_mat_prot = \\\n",
    "SubsMat.make_log_odds_matrix(acc_rep_mat=acc_rep_mat, round_digit=1)  # ,ftab_prot\n",
    "f.write(\"\\nLog odds matrix\\n\")\n",
    "f.write(\"\\nLog odds half matrix\\n\")\n",
    "# Was %.1f. Let us see if this is OK\n",
    "lo_mat_prot.print_mat(f=f, format=\" %d\", alphabet='AVILMCFWYHSTNQKRDEGP')\n",
    "f.write(\"\\nLog odds full matrix\\n\")\n",
    "# Was %.1f. Let us see if this is OK\n",
    "lo_mat_prot.print_full_mat(f=f, format=\" %d\", alphabet='AVILMCFWYHSTNQKRDEGP')\n",
    "\n",
    "f.write(\"\\nTesting MatrixInfo\\n\")\n",
    "for i in MatrixInfo.available_matrices:\n",
    "    mat = SubsMat.SeqMat(getattr(MatrixInfo, i))\n",
    "    f.write(\"\\n%s\\n------------\\n\" % i)\n",
    "    mat.print_mat(f=f)\n",
    "f.write(\"\\nTesting Entropy\\n\")\n",
    "relative_entropy = lo_mat_prot.calculate_relative_entropy(obs_freq_mat)\n",
    "f.write(\"relative entropy %.3f\\n\" % relative_entropy)\n",
    "\n",
    "f.write(\"\\nmatrix correlations\\n\")\n",
    "blosum90 = SubsMat.SeqMat(MatrixInfo.blosum90)\n",
    "blosum30 = SubsMat.SeqMat(MatrixInfo.blosum30)\n",
    "f.write(\"BLOSUM30 & BLOSUM90 %.2f\\n\" % SubsMat.two_mat_correlation(blosum30, blosum90))\n",
    "f.write(\"BLOSUM90 & BLOSUM30 %.2f\\n\" % SubsMat.two_mat_correlation(blosum90, blosum30))"
   ]
  }
 ],
 "metadata": {
  "kernelspec": {
   "display_name": "misc",
   "language": "python",
   "name": "misc"
  },
  "language_info": {
   "codemirror_mode": {
    "name": "ipython",
    "version": 2
   },
   "file_extension": ".py",
   "mimetype": "text/x-python",
   "name": "python",
   "nbconvert_exporter": "python",
   "pygments_lexer": "ipython2",
   "version": "2.7.6"
  }
 },
 "nbformat": 4,
 "nbformat_minor": 0
}
